{
 "cells": [
  {
   "cell_type": "code",
   "execution_count": 1,
   "metadata": {},
   "outputs": [
    {
     "name": "stdout",
     "output_type": "stream",
     "text": [
      "WARNING:tensorflow:From c:\\Users\\gavin\\.conda\\envs\\nlp\\Lib\\site-packages\\tf_keras\\src\\losses.py:2976: The name tf.losses.sparse_softmax_cross_entropy is deprecated. Please use tf.compat.v1.losses.sparse_softmax_cross_entropy instead.\n",
      "\n"
     ]
    }
   ],
   "source": [
    "import pandas as pd\n",
    "import numpy as np\n",
    "import torch\n",
    "import torch.nn as nn\n",
    "from datasets import Dataset\n",
    "import evaluate\n",
    "from sklearn.metrics import accuracy_score, precision_recall_fscore_support, confusion_matrix, ConfusionMatrixDisplay\n",
    "from transformers import DistilBertTokenizer, DistilBertForSequenceClassification, Trainer, TrainingArguments\n",
    "from sklearn.model_selection import train_test_split, StratifiedShuffleSplit\n",
    "import matplotlib.pyplot as plt\n",
    "from tqdm import tqdm\n",
    "import seaborn as sns"
   ]
  },
  {
   "cell_type": "markdown",
   "metadata": {},
   "source": [
    "### Load data"
   ]
  },
  {
   "cell_type": "code",
   "execution_count": 2,
   "metadata": {},
   "outputs": [],
   "source": [
    "device = torch.device(\"cuda\" if torch.cuda.is_available() else \"cpu\")"
   ]
  },
  {
   "cell_type": "code",
   "execution_count": 3,
   "metadata": {},
   "outputs": [
    {
     "name": "stdout",
     "output_type": "stream",
     "text": [
      "Total number of texts:  1998\n",
      "Total number of labels:  1998\n",
      "The unique labels are:  [0, 1]\n"
     ]
    }
   ],
   "source": [
    "data = pd.read_csv(\"raw_combined_2.csv\") \n",
    "\n",
    "# get the length of section\n",
    "print(\"Total number of texts: \", len(data['text']))\n",
    "print(\"Total number of labels: \", len(data['label']))\n",
    "\n",
    "#get unique labels\n",
    "unique_labels = list(set(data['label']))\n",
    "print(\"The unique labels are: \", unique_labels)"
   ]
  },
  {
   "cell_type": "code",
   "execution_count": 12,
   "metadata": {},
   "outputs": [
    {
     "name": "stdout",
     "output_type": "stream",
     "text": [
      "Train data:  label\n",
      "0    664\n",
      "1    534\n",
      "Name: count, dtype: int64\n",
      "\n",
      "Validation data:  label\n",
      "0    222\n",
      "1    178\n",
      "Name: count, dtype: int64\n",
      "\n",
      "Test data:  label\n",
      "0    222\n",
      "1    178\n",
      "Name: count, dtype: int64\n"
     ]
    }
   ],
   "source": [
    "# First split: 80% (train+val) and 20% (test)\n",
    "split1 = StratifiedShuffleSplit(n_splits=1, test_size=0.2, random_state=42)\n",
    "for train_val_idx, test_idx in split1.split(data, data['label']):\n",
    "    train_val_data = data.iloc[train_val_idx]\n",
    "    test_data = data.iloc[test_idx]\n",
    "\n",
    "# Second split: 60% train and 20% validation from 80% train+val\n",
    "split2 = StratifiedShuffleSplit(n_splits=1, test_size=0.25, random_state=42)\n",
    "for train_idx, val_idx in split2.split(train_val_data, train_val_data['label']):\n",
    "    train_data = train_val_data.iloc[train_idx]\n",
    "    val_data = train_val_data.iloc[val_idx]\n",
    "\n",
    "# Verify the splits on the labels\n",
    "print(\"Train data: \", train_data['label'].value_counts(normalize=False))\n",
    "print()\n",
    "print(\"Validation data: \", val_data['label'].value_counts(normalize=False))\n",
    "print()\n",
    "print(\"Test data: \", test_data['label'].value_counts(normalize=False))"
   ]
  },
  {
   "cell_type": "code",
   "execution_count": 5,
   "metadata": {},
   "outputs": [
    {
     "name": "stderr",
     "output_type": "stream",
     "text": [
      "c:\\Users\\gavin\\.conda\\envs\\nlp\\Lib\\site-packages\\transformers\\tokenization_utils_base.py:1601: FutureWarning: `clean_up_tokenization_spaces` was not set. It will be set to `True` by default. This behavior will be depracted in transformers v4.45, and will be then set to `False` by default. For more details check this issue: https://github.com/huggingface/transformers/issues/31884\n",
      "  warnings.warn(\n"
     ]
    }
   ],
   "source": [
    "accuracy_metric = evaluate.load(\"accuracy\")\n",
    "\n",
    "def compute_metrics(eval_pred):\n",
    "    logits, labels = eval_pred\n",
    "    predictions = np.argmax(logits, axis=1)\n",
    "    accuracy = accuracy_metric.compute(predictions=predictions, references=labels)\n",
    "    return {\"accuracy\": accuracy[\"accuracy\"]}\n",
    "\n",
    "tokenizer = DistilBertTokenizer.from_pretrained('distilbert-base-uncased')\n",
    "\n",
    "def tokenize_function(examples):\n",
    "    return tokenizer(examples['text'], padding=\"max_length\", truncation=True, max_length=512)"
   ]
  },
  {
   "cell_type": "code",
   "execution_count": 6,
   "metadata": {},
   "outputs": [
    {
     "data": {
      "application/vnd.jupyter.widget-view+json": {
       "model_id": "02ca972abb0047d398ebfb2ce47c803d",
       "version_major": 2,
       "version_minor": 0
      },
      "text/plain": [
       "Map:   0%|          | 0/1198 [00:00<?, ? examples/s]"
      ]
     },
     "metadata": {},
     "output_type": "display_data"
    },
    {
     "data": {
      "application/vnd.jupyter.widget-view+json": {
       "model_id": "2452c454beb14118916065bade163013",
       "version_major": 2,
       "version_minor": 0
      },
      "text/plain": [
       "Map:   0%|          | 0/400 [00:00<?, ? examples/s]"
      ]
     },
     "metadata": {},
     "output_type": "display_data"
    },
    {
     "data": {
      "application/vnd.jupyter.widget-view+json": {
       "model_id": "c85e8ef1df7a46529ec4107fae19f877",
       "version_major": 2,
       "version_minor": 0
      },
      "text/plain": [
       "Map:   0%|          | 0/400 [00:00<?, ? examples/s]"
      ]
     },
     "metadata": {},
     "output_type": "display_data"
    },
    {
     "name": "stderr",
     "output_type": "stream",
     "text": [
      "Some weights of DistilBertForSequenceClassification were not initialized from the model checkpoint at distilbert-base-uncased and are newly initialized: ['classifier.bias', 'classifier.weight', 'pre_classifier.bias', 'pre_classifier.weight']\n",
      "You should probably TRAIN this model on a down-stream task to be able to use it for predictions and inference.\n",
      "c:\\Users\\gavin\\.conda\\envs\\nlp\\Lib\\site-packages\\transformers\\training_args.py:1525: FutureWarning: `evaluation_strategy` is deprecated and will be removed in version 4.46 of 🤗 Transformers. Use `eval_strategy` instead\n",
      "  warnings.warn(\n"
     ]
    },
    {
     "data": {
      "application/vnd.jupyter.widget-view+json": {
       "model_id": "a796a46a82b24030b491d81b822783e3",
       "version_major": 2,
       "version_minor": 0
      },
      "text/plain": [
       "  0%|          | 0/114 [00:00<?, ?it/s]"
      ]
     },
     "metadata": {},
     "output_type": "display_data"
    },
    {
     "name": "stdout",
     "output_type": "stream",
     "text": [
      "{'loss': 0.5525, 'grad_norm': 2.109999656677246, 'learning_rate': 1.824561403508772e-05, 'epoch': 0.26}\n",
      "{'loss': 0.2349, 'grad_norm': 1.2725361585617065, 'learning_rate': 1.649122807017544e-05, 'epoch': 0.53}\n",
      "{'loss': 0.1105, 'grad_norm': 2.9172937870025635, 'learning_rate': 1.4736842105263159e-05, 'epoch': 0.79}\n"
     ]
    },
    {
     "data": {
      "application/vnd.jupyter.widget-view+json": {
       "model_id": "f1b93829ddfd43ae99dcac9828100491",
       "version_major": 2,
       "version_minor": 0
      },
      "text/plain": [
       "  0%|          | 0/7 [00:00<?, ?it/s]"
      ]
     },
     "metadata": {},
     "output_type": "display_data"
    },
    {
     "name": "stdout",
     "output_type": "stream",
     "text": [
      "{'eval_loss': 0.044191475957632065, 'eval_accuracy': 0.995, 'eval_runtime': 33.7149, 'eval_samples_per_second': 11.864, 'eval_steps_per_second': 0.208, 'epoch': 1.0}\n",
      "{'loss': 0.0758, 'grad_norm': 0.5334892868995667, 'learning_rate': 1.2982456140350879e-05, 'epoch': 1.05}\n",
      "{'loss': 0.0552, 'grad_norm': 4.39109992980957, 'learning_rate': 1.1228070175438597e-05, 'epoch': 1.32}\n",
      "{'loss': 0.0215, 'grad_norm': 0.19181935489177704, 'learning_rate': 9.473684210526315e-06, 'epoch': 1.58}\n",
      "{'loss': 0.0244, 'grad_norm': 5.313055515289307, 'learning_rate': 7.719298245614036e-06, 'epoch': 1.84}\n"
     ]
    },
    {
     "data": {
      "application/vnd.jupyter.widget-view+json": {
       "model_id": "819cbaa29d994faf82033fdb2270e931",
       "version_major": 2,
       "version_minor": 0
      },
      "text/plain": [
       "  0%|          | 0/7 [00:00<?, ?it/s]"
      ]
     },
     "metadata": {},
     "output_type": "display_data"
    },
    {
     "name": "stdout",
     "output_type": "stream",
     "text": [
      "{'eval_loss': 0.022703206166625023, 'eval_accuracy': 0.9925, 'eval_runtime': 32.8741, 'eval_samples_per_second': 12.168, 'eval_steps_per_second': 0.213, 'epoch': 2.0}\n",
      "{'loss': 0.0306, 'grad_norm': 0.14056961238384247, 'learning_rate': 5.964912280701755e-06, 'epoch': 2.11}\n",
      "{'loss': 0.0124, 'grad_norm': 0.15341459214687347, 'learning_rate': 4.210526315789474e-06, 'epoch': 2.37}\n",
      "{'loss': 0.0136, 'grad_norm': 0.16600669920444489, 'learning_rate': 2.456140350877193e-06, 'epoch': 2.63}\n",
      "{'loss': 0.0249, 'grad_norm': 0.20356681942939758, 'learning_rate': 7.017543859649123e-07, 'epoch': 2.89}\n"
     ]
    },
    {
     "data": {
      "application/vnd.jupyter.widget-view+json": {
       "model_id": "9c988980a2564819b2515ce9c656ffab",
       "version_major": 2,
       "version_minor": 0
      },
      "text/plain": [
       "  0%|          | 0/7 [00:00<?, ?it/s]"
      ]
     },
     "metadata": {},
     "output_type": "display_data"
    },
    {
     "name": "stdout",
     "output_type": "stream",
     "text": [
      "{'eval_loss': 0.02627387084066868, 'eval_accuracy': 0.9925, 'eval_runtime': 24.0577, 'eval_samples_per_second': 16.627, 'eval_steps_per_second': 0.291, 'epoch': 3.0}\n",
      "{'train_runtime': 604.2545, 'train_samples_per_second': 5.948, 'train_steps_per_second': 0.189, 'train_loss': 0.10234502147425685, 'epoch': 3.0}\n"
     ]
    },
    {
     "data": {
      "text/plain": [
       "TrainOutput(global_step=114, training_loss=0.10234502147425685, metrics={'train_runtime': 604.2545, 'train_samples_per_second': 5.948, 'train_steps_per_second': 0.189, 'total_flos': 476087830769664.0, 'train_loss': 0.10234502147425685, 'epoch': 3.0})"
      ]
     },
     "execution_count": 6,
     "metadata": {},
     "output_type": "execute_result"
    }
   ],
   "source": [
    "train_dataset = Dataset.from_dict(train_data.to_dict(orient='list'))\n",
    "val_dataset = Dataset.from_dict(val_data.to_dict(orient='list'))\n",
    "test_dataset = Dataset.from_dict(test_data.to_dict(orient='list'))\n",
    "\n",
    "# Apply tokenization\n",
    "train_dataset = train_dataset.map(tokenize_function, batched=True)\n",
    "val_dataset = val_dataset.map(tokenize_function, batched=True)\n",
    "test_dataset = test_dataset.map(tokenize_function, batched=True)\n",
    "\n",
    "# Set the format for PyTorch\n",
    "train_dataset.set_format(type=\"torch\", columns=[\"input_ids\", \"attention_mask\", \"label\"])\n",
    "val_dataset.set_format(type=\"torch\", columns=[\"input_ids\", \"attention_mask\", \"label\"])\n",
    "test_dataset.set_format(type=\"torch\", columns=[\"input_ids\", \"attention_mask\", \"label\"])\n",
    "\n",
    "# Initialize the model\n",
    "model = DistilBertForSequenceClassification.from_pretrained('distilbert-base-uncased', num_labels=len(unique_labels))\n",
    "model = model.to(device)\n",
    "\n",
    "# Training arguments\n",
    "training_args = TrainingArguments(\n",
    "    output_dir=\"./temp\",\n",
    "    evaluation_strategy=\"epoch\",\n",
    "    save_strategy=\"epoch\",\n",
    "    learning_rate=2e-5,\n",
    "    per_device_train_batch_size=32,\n",
    "    per_device_eval_batch_size=64,\n",
    "    num_train_epochs=3,\n",
    "    weight_decay=0.01,\n",
    "    logging_dir=None,\n",
    "    logging_steps=10,\n",
    "    load_best_model_at_end=True,\n",
    "    metric_for_best_model=\"accuracy\",  # Matches the key in compute_metrics\n",
    "    save_total_limit=2\n",
    ")\n",
    "\n",
    "# Define Trainer\n",
    "trainer = Trainer(\n",
    "    model=model,\n",
    "    args=training_args,\n",
    "    train_dataset=train_dataset,\n",
    "    eval_dataset=val_dataset,\n",
    "    tokenizer=tokenizer,\n",
    "    compute_metrics=compute_metrics\n",
    ")\n",
    "# Train the model\n",
    "trainer.train()"
   ]
  },
  {
   "cell_type": "code",
   "execution_count": 7,
   "metadata": {},
   "outputs": [
    {
     "data": {
      "application/vnd.jupyter.widget-view+json": {
       "model_id": "9d293fd40da244a59de5d738cd942535",
       "version_major": 2,
       "version_minor": 0
      },
      "text/plain": [
       "  0%|          | 0/7 [00:00<?, ?it/s]"
      ]
     },
     "metadata": {},
     "output_type": "display_data"
    },
    {
     "name": "stdout",
     "output_type": "stream",
     "text": [
      "Accuracy: 0.9850\n",
      "Precision: 0.9852\n",
      "Recall: 0.9850\n",
      "F1 Score: 0.9850\n"
     ]
    },
    {
     "data": {
      "image/png": "[encoded data removed]",
      "text/plain": [
       "<Figure size 640x480 with 2 Axes>"
      ]
     },
     "metadata": {},
     "output_type": "display_data"
    }
   ],
   "source": [
    "# Predict on the test dataset\n",
    "predictions = trainer.predict(test_dataset)\n",
    "\n",
    "# Extract logits and true labels\n",
    "logits = predictions.predictions\n",
    "predicted_labels = np.argmax(logits, axis=1)  # Predicted class\n",
    "true_labels = predictions.label_ids  # True labels\n",
    "\n",
    "# Generate the confusion matrix\n",
    "cm = confusion_matrix(true_labels, predicted_labels)\n",
    "\n",
    "# Calculate metrics\n",
    "accuracy = accuracy_score(true_labels, predicted_labels)\n",
    "precision, recall, f1, _ = precision_recall_fscore_support(true_labels, predicted_labels, average='weighted')\n",
    "print(f\"Accuracy: {accuracy:.4f}\")\n",
    "print(f\"Precision: {precision:.4f}\")\n",
    "print(f\"Recall: {recall:.4f}\")\n",
    "print(f\"F1 Score: {f1:.4f}\")\n",
    "\n",
    "# Step 5: Visualize the confusion matrix\n",
    "disp = ConfusionMatrixDisplay(confusion_matrix=cm, display_labels=unique_labels)  # Replace unique_labels with your label names\n",
    "disp.plot(cmap=plt.cm.Blues)\n",
    "plt.title(\"Confusion Matrix\")\n",
    "plt.show()"
   ]
  },
  {
   "cell_type": "markdown",
   "metadata": {},
   "source": [
    "### Second fine-tuning"
   ]
  },
  {
   "cell_type": "code",
   "execution_count": 8,
   "metadata": {},
   "outputs": [
    {
     "name": "stdout",
     "output_type": "stream",
     "text": [
      "Total number of texts:  12\n",
      "Total number of labels:  12\n",
      "The number of papers per label are:  label\n",
      "1    10\n",
      "0     2\n",
      "Name: count, dtype: int64\n"
     ]
    }
   ],
   "source": [
    "waste_data = pd.read_csv(\"New_Data/waste_data.csv\")\n",
    "\n",
    "# get the length of section\n",
    "print(\"Total number of texts: \", len(waste_data['text']))\n",
    "print(\"Total number of labels: \", len(waste_data['label']))\n",
    "\n",
    "#get number of papers per label\n",
    "print(\"The number of papers per label are: \", waste_data['label'].value_counts(normalize=False))\n"
   ]
  },
  {
   "cell_type": "code",
   "execution_count": 9,
   "metadata": {},
   "outputs": [
    {
     "name": "stdout",
     "output_type": "stream",
     "text": [
      "\n",
      "Train Data:\n",
      "label\n",
      "1    7\n",
      "0    1\n",
      "Name: count, dtype: int64\n",
      "\n",
      "Validation Data:\n",
      "label\n",
      "1    3\n",
      "0    1\n",
      "Name: count, dtype: int64\n"
     ]
    }
   ],
   "source": [
    "# Separate the data by label\n",
    "label_1_data = waste_data[waste_data['label'] == 1]\n",
    "label_0_data = waste_data[waste_data['label'] == 0]\n",
    "\n",
    "# Assign 7 papers with label 1 and 1 paper with label 0 to the train set\n",
    "waste_train_data = pd.concat([label_1_data.iloc[:7], label_0_data.iloc[:1]])\n",
    "\n",
    "# Assign the remaining data to the validation set\n",
    "waste_val_data = pd.concat([label_1_data.iloc[7:], label_0_data.iloc[1:]])\n",
    "\n",
    "# Print the resulting splits\n",
    "print(\"\\nTrain Data:\")\n",
    "print(waste_train_data['label'].value_counts())\n",
    "print(\"\\nValidation Data:\")\n",
    "print(waste_val_data['label'].value_counts())"
   ]
  },
  {
   "cell_type": "code",
   "execution_count": 10,
   "metadata": {},
   "outputs": [
    {
     "data": {
      "application/vnd.jupyter.widget-view+json": {
       "model_id": "90332d3a81ff4350a516830f0a4dcd64",
       "version_major": 2,
       "version_minor": 0
      },
      "text/plain": [
       "Map:   0%|          | 0/8 [00:00<?, ? examples/s]"
      ]
     },
     "metadata": {},
     "output_type": "display_data"
    },
    {
     "data": {
      "application/vnd.jupyter.widget-view+json": {
       "model_id": "2578cc061c134975a33ef50e206f68c4",
       "version_major": 2,
       "version_minor": 0
      },
      "text/plain": [
       "Map:   0%|          | 0/4 [00:00<?, ? examples/s]"
      ]
     },
     "metadata": {},
     "output_type": "display_data"
    },
    {
     "name": "stderr",
     "output_type": "stream",
     "text": [
      "c:\\Users\\gavin\\.conda\\envs\\nlp\\Lib\\site-packages\\transformers\\training_args.py:1525: FutureWarning: `evaluation_strategy` is deprecated and will be removed in version 4.46 of 🤗 Transformers. Use `eval_strategy` instead\n",
      "  warnings.warn(\n"
     ]
    },
    {
     "data": {
      "application/vnd.jupyter.widget-view+json": {
       "model_id": "c6c42ec5f4e040cdbf823f081559e8f5",
       "version_major": 2,
       "version_minor": 0
      },
      "text/plain": [
       "  0%|          | 0/13 [00:00<?, ?it/s]"
      ]
     },
     "metadata": {},
     "output_type": "display_data"
    },
    {
     "data": {
      "application/vnd.jupyter.widget-view+json": {
       "model_id": "9537a81cf33949b1b7b9b4841ec72e07",
       "version_major": 2,
       "version_minor": 0
      },
      "text/plain": [
       "  0%|          | 0/1 [00:00<?, ?it/s]"
      ]
     },
     "metadata": {},
     "output_type": "display_data"
    },
    {
     "name": "stdout",
     "output_type": "stream",
     "text": [
      "{'eval_loss': 0.703141450881958, 'eval_accuracy': 0.75, 'eval_runtime': 0.0579, 'eval_samples_per_second': 69.059, 'eval_steps_per_second': 17.265, 'epoch': 1.0}\n"
     ]
    },
    {
     "data": {
      "application/vnd.jupyter.widget-view+json": {
       "model_id": "3ce810c7c51f4bc79caf36ada8e03cf8",
       "version_major": 2,
       "version_minor": 0
      },
      "text/plain": [
       "  0%|          | 0/1 [00:00<?, ?it/s]"
      ]
     },
     "metadata": {},
     "output_type": "display_data"
    },
    {
     "name": "stdout",
     "output_type": "stream",
     "text": [
      "{'eval_loss': 0.7259246706962585, 'eval_accuracy': 0.75, 'eval_runtime': 0.0613, 'eval_samples_per_second': 65.216, 'eval_steps_per_second': 16.304, 'epoch': 2.0}\n"
     ]
    },
    {
     "data": {
      "application/vnd.jupyter.widget-view+json": {
       "model_id": "e1994d33a8c44814b8b4de503d942ccd",
       "version_major": 2,
       "version_minor": 0
      },
      "text/plain": [
       "  0%|          | 0/1 [00:00<?, ?it/s]"
      ]
     },
     "metadata": {},
     "output_type": "display_data"
    },
    {
     "name": "stdout",
     "output_type": "stream",
     "text": [
      "{'eval_loss': 0.7954265475273132, 'eval_accuracy': 0.75, 'eval_runtime': 0.0632, 'eval_samples_per_second': 63.295, 'eval_steps_per_second': 15.824, 'epoch': 3.0}\n"
     ]
    },
    {
     "data": {
      "application/vnd.jupyter.widget-view+json": {
       "model_id": "d145fffd38dd471a94b8680cdffb3868",
       "version_major": 2,
       "version_minor": 0
      },
      "text/plain": [
       "  0%|          | 0/1 [00:00<?, ?it/s]"
      ]
     },
     "metadata": {},
     "output_type": "display_data"
    },
    {
     "name": "stdout",
     "output_type": "stream",
     "text": [
      "{'eval_loss': 0.8569572567939758, 'eval_accuracy': 0.75, 'eval_runtime': 0.0614, 'eval_samples_per_second': 65.108, 'eval_steps_per_second': 16.277, 'epoch': 4.0}\n"
     ]
    },
    {
     "data": {
      "application/vnd.jupyter.widget-view+json": {
       "model_id": "f67eb974ba1243f3a9338a0407736b70",
       "version_major": 2,
       "version_minor": 0
      },
      "text/plain": [
       "  0%|          | 0/1 [00:00<?, ?it/s]"
      ]
     },
     "metadata": {},
     "output_type": "display_data"
    },
    {
     "name": "stdout",
     "output_type": "stream",
     "text": [
      "{'eval_loss': 0.8955885767936707, 'eval_accuracy': 0.75, 'eval_runtime': 0.0636, 'eval_samples_per_second': 62.862, 'eval_steps_per_second': 15.715, 'epoch': 5.0}\n"
     ]
    },
    {
     "data": {
      "application/vnd.jupyter.widget-view+json": {
       "model_id": "4cd37978d51144a5b479b20103b7d08a",
       "version_major": 2,
       "version_minor": 0
      },
      "text/plain": [
       "  0%|          | 0/1 [00:00<?, ?it/s]"
      ]
     },
     "metadata": {},
     "output_type": "display_data"
    },
    {
     "name": "stdout",
     "output_type": "stream",
     "text": [
      "{'eval_loss': 0.9264498949050903, 'eval_accuracy': 0.75, 'eval_runtime': 0.0628, 'eval_samples_per_second': 63.742, 'eval_steps_per_second': 15.936, 'epoch': 6.0}\n"
     ]
    },
    {
     "data": {
      "application/vnd.jupyter.widget-view+json": {
       "model_id": "d6735ea138324b7aa7b3977e200ccbdf",
       "version_major": 2,
       "version_minor": 0
      },
      "text/plain": [
       "  0%|          | 0/1 [00:00<?, ?it/s]"
      ]
     },
     "metadata": {},
     "output_type": "display_data"
    },
    {
     "name": "stdout",
     "output_type": "stream",
     "text": [
      "{'eval_loss': 0.9490564465522766, 'eval_accuracy': 0.75, 'eval_runtime': 0.0725, 'eval_samples_per_second': 55.196, 'eval_steps_per_second': 13.799, 'epoch': 7.0}\n"
     ]
    },
    {
     "data": {
      "application/vnd.jupyter.widget-view+json": {
       "model_id": "a468bdb0e1f8449a8cb3315accae8670",
       "version_major": 2,
       "version_minor": 0
      },
      "text/plain": [
       "  0%|          | 0/1 [00:00<?, ?it/s]"
      ]
     },
     "metadata": {},
     "output_type": "display_data"
    },
    {
     "name": "stdout",
     "output_type": "stream",
     "text": [
      "{'eval_loss': 0.9673593640327454, 'eval_accuracy': 0.75, 'eval_runtime': 0.0755, 'eval_samples_per_second': 52.988, 'eval_steps_per_second': 13.247, 'epoch': 8.0}\n"
     ]
    },
    {
     "data": {
      "application/vnd.jupyter.widget-view+json": {
       "model_id": "89b7a842a52a4f71a751193657e93732",
       "version_major": 2,
       "version_minor": 0
      },
      "text/plain": [
       "  0%|          | 0/1 [00:00<?, ?it/s]"
      ]
     },
     "metadata": {},
     "output_type": "display_data"
    },
    {
     "name": "stdout",
     "output_type": "stream",
     "text": [
      "{'eval_loss': 0.9818414449691772, 'eval_accuracy': 0.75, 'eval_runtime': 0.0704, 'eval_samples_per_second': 56.823, 'eval_steps_per_second': 14.206, 'epoch': 9.0}\n",
      "{'loss': 0.1161, 'grad_norm': 0.5563591122627258, 'learning_rate': 4.615384615384616e-06, 'epoch': 10.0}\n"
     ]
    },
    {
     "data": {
      "application/vnd.jupyter.widget-view+json": {
       "model_id": "c9ceb240f04d4131837bd9f512cc8e6b",
       "version_major": 2,
       "version_minor": 0
      },
      "text/plain": [
       "  0%|          | 0/1 [00:00<?, ?it/s]"
      ]
     },
     "metadata": {},
     "output_type": "display_data"
    },
    {
     "name": "stdout",
     "output_type": "stream",
     "text": [
      "{'eval_loss': 0.9931117296218872, 'eval_accuracy': 0.75, 'eval_runtime': 0.0422, 'eval_samples_per_second': 94.69, 'eval_steps_per_second': 23.672, 'epoch': 10.0}\n"
     ]
    },
    {
     "data": {
      "application/vnd.jupyter.widget-view+json": {
       "model_id": "35d522704da242b0a63e4e2866ab8d06",
       "version_major": 2,
       "version_minor": 0
      },
      "text/plain": [
       "  0%|          | 0/1 [00:00<?, ?it/s]"
      ]
     },
     "metadata": {},
     "output_type": "display_data"
    },
    {
     "name": "stdout",
     "output_type": "stream",
     "text": [
      "{'eval_loss': 1.0014610290527344, 'eval_accuracy': 0.75, 'eval_runtime': 0.0684, 'eval_samples_per_second': 58.498, 'eval_steps_per_second': 14.625, 'epoch': 11.0}\n"
     ]
    },
    {
     "data": {
      "application/vnd.jupyter.widget-view+json": {
       "model_id": "098379e7278c436f81c45df3523800cd",
       "version_major": 2,
       "version_minor": 0
      },
      "text/plain": [
       "  0%|          | 0/1 [00:00<?, ?it/s]"
      ]
     },
     "metadata": {},
     "output_type": "display_data"
    },
    {
     "name": "stdout",
     "output_type": "stream",
     "text": [
      "{'eval_loss': 1.0069708824157715, 'eval_accuracy': 0.75, 'eval_runtime': 0.063, 'eval_samples_per_second': 63.495, 'eval_steps_per_second': 15.874, 'epoch': 12.0}\n"
     ]
    },
    {
     "data": {
      "application/vnd.jupyter.widget-view+json": {
       "model_id": "3e205107c0bf4720ab4e6ff64184a73c",
       "version_major": 2,
       "version_minor": 0
      },
      "text/plain": [
       "  0%|          | 0/1 [00:00<?, ?it/s]"
      ]
     },
     "metadata": {},
     "output_type": "display_data"
    },
    {
     "name": "stdout",
     "output_type": "stream",
     "text": [
      "{'eval_loss': 1.0097014904022217, 'eval_accuracy': 0.75, 'eval_runtime': 0.0472, 'eval_samples_per_second': 84.711, 'eval_steps_per_second': 21.178, 'epoch': 13.0}\n",
      "{'train_runtime': 13.8298, 'train_samples_per_second': 7.52, 'train_steps_per_second': 0.94, 'train_loss': 0.09535282391768235, 'epoch': 13.0}\n"
     ]
    },
    {
     "data": {
      "text/plain": [
       "TrainOutput(global_step=13, training_loss=0.09535282391768235, metrics={'train_runtime': 13.8298, 'train_samples_per_second': 7.52, 'train_steps_per_second': 0.94, 'total_flos': 13776609460224.0, 'train_loss': 0.09535282391768235, 'epoch': 13.0})"
      ]
     },
     "execution_count": 10,
     "metadata": {},
     "output_type": "execute_result"
    }
   ],
   "source": [
    "waste_train_dataset = Dataset.from_dict(waste_train_data.to_dict(orient='list'))\n",
    "waste_val_dataset = Dataset.from_dict(waste_val_data.to_dict(orient='list'))\n",
    "\n",
    "\n",
    "# Apply tokenization\n",
    "waste_train_dataset = waste_train_dataset.map(tokenize_function, batched=True)\n",
    "waste_val_dataset = waste_val_dataset.map(tokenize_function, batched=True)\n",
    "\n",
    "\n",
    "# Set the format for PyTorch\n",
    "waste_train_dataset.set_format(type=\"torch\", columns=[\"input_ids\", \"attention_mask\", \"label\"])\n",
    "waste_val_dataset.set_format(type=\"torch\", columns=[\"input_ids\", \"attention_mask\", \"label\"])\n",
    "\n",
    "# Initialize the model\n",
    "waste_model = model\n",
    "# Training arguments\n",
    "waste_training_args = TrainingArguments(\n",
    "    output_dir=\"./temp\",\n",
    "    evaluation_strategy=\"epoch\",\n",
    "    save_strategy=\"epoch\",\n",
    "    learning_rate=2e-5,\n",
    "    per_device_train_batch_size=16,\n",
    "    per_device_eval_batch_size=64,\n",
    "    num_train_epochs=13,\n",
    "    weight_decay=0.01,\n",
    "    logging_dir=None,\n",
    "    logging_steps=10,\n",
    "    load_best_model_at_end=True,\n",
    "    metric_for_best_model=\"accuracy\",  # Matches the key in compute_metrics\n",
    "    save_total_limit=2\n",
    ")\n",
    "\n",
    "# Define Trainer\n",
    "waste_trainer = Trainer(\n",
    "    model=waste_model,\n",
    "    args=waste_training_args,\n",
    "    train_dataset=waste_train_dataset,\n",
    "    eval_dataset=waste_val_dataset,\n",
    "    tokenizer=tokenizer,\n",
    "    compute_metrics=compute_metrics\n",
    ")\n",
    "# Train the model\n",
    "waste_trainer.train()"
   ]
  },
  {
   "cell_type": "code",
   "execution_count": 13,
   "metadata": {},
   "outputs": [
    {
     "data": {
      "application/vnd.jupyter.widget-view+json": {
       "model_id": "0b3cc7a7027d49a7890a80c19b0fce81",
       "version_major": 2,
       "version_minor": 0
      },
      "text/plain": [
       "  0%|          | 0/1 [00:00<?, ?it/s]"
      ]
     },
     "metadata": {},
     "output_type": "display_data"
    },
    {
     "data": {
      "image/png": "[encoded data removed]",
      "text/plain": [
       "<Figure size 640x480 with 2 Axes>"
      ]
     },
     "metadata": {},
     "output_type": "display_data"
    }
   ],
   "source": [
    "# Predict on the validation dataset\n",
    "predictions = waste_trainer.predict(waste_val_dataset)\n",
    "\n",
    "# Extract logits and true labels\n",
    "logits = predictions.predictions\n",
    "true_labels = predictions.label_ids\n",
    "predicted_labels = np.argmax(logits, axis=1)\n",
    "\n",
    "# Compute confusion matrix\n",
    "cm = confusion_matrix(true_labels, predicted_labels)\n",
    "\n",
    "# Display the confusion matrix\n",
    "disp = ConfusionMatrixDisplay(confusion_matrix=cm, display_labels=waste_model.config.id2label)\n",
    "disp.plot(cmap=plt.cm.Blues)\n",
    "plt.title(\"Confusion Matrix on Validation Dataset\")\n",
    "plt.show()"
   ]
  },
  {
   "cell_type": "markdown",
   "metadata": {},
   "source": [
    "### infer\n"
   ]
  },
  {
   "cell_type": "code",
   "execution_count": 11,
   "metadata": {},
   "outputs": [
    {
     "name": "stdout",
     "output_type": "stream",
     "text": [
      "Processing 1-s2.0-S0045653523029752-main.pdf...\n",
      "Processing 1-s2.0-S0048969720362653-main.pdf...\n",
      "Processing 1-s2.0-S016041201930652X-main.pdf...\n",
      "Processing 1-s2.0-S0160412022004512-main.pdf...\n",
      "Processing 1-s2.0-S0269749122011113-main.pdf...\n",
      "Processing 1-s2.0-S0301479721008550-main.pdf...\n",
      "Processing 1-s2.0-S1352231024005399-main.pdf...\n",
      "Processing aaqr-22-11-aac22-0412.pdf...\n",
      "Processing d2ea00082b.pdf...\n",
      "Processing Environmental_and_Health_Impac.pdf...\n",
      "Processing fenvs-10-861770.pdf...\n",
      "Processing fpubh-11-1242726.pdf...\n",
      "Processing Health Impact of Household Waste Burning in Khartoum State Sudan.pdf...\n",
      "Predictions saved to ../Medical/New_Data/predicted_labels.csv\n"
     ]
    }
   ],
   "source": [
    "import os\n",
    "import torch\n",
    "import pandas as pd\n",
    "import fitz  # PyMuPDF\n",
    "def extract_text_from_pdf(pdf_path):\n",
    "    try:\n",
    "        doc = fitz.open(pdf_path)\n",
    "        text = \"\"\n",
    "        for page_num in range(doc.page_count):\n",
    "            page = doc.load_page(page_num)\n",
    "            text += page.get_text()\n",
    "        return text\n",
    "    except Exception as e:\n",
    "        print(f\"Error extracting text from {pdf_path}: {e}\")\n",
    "        return \"\"\n",
    "\n",
    "def predict_label_for_pdf(pdf_path, model, tokenizer, device):\n",
    "    # Extract text from the PDF\n",
    "    text = extract_text_from_pdf(pdf_path)\n",
    "    if not text.strip():\n",
    "        print(f\"No text extracted from {pdf_path}\")\n",
    "        return None\n",
    "\n",
    "    # Tokenize the text\n",
    "    inputs = tokenizer(\n",
    "        text, \n",
    "        padding=\"max_length\", \n",
    "        truncation=True, \n",
    "        max_length=512, \n",
    "        return_tensors=\"pt\"\n",
    "    )\n",
    "    \n",
    "    # Move tensors to the device (GPU or CPU)\n",
    "    inputs = {key: value.to(device) for key, value in inputs.items()}\n",
    "    \n",
    "    # Predict label\n",
    "    with torch.no_grad():\n",
    "        outputs = model(**inputs)\n",
    "        logits = outputs.logits\n",
    "        predicted_label = torch.argmax(logits, dim=1).item()\n",
    "\n",
    "    return predicted_label\n",
    "\n",
    "def process_pdfs_after_training(directory_path, output_csv, model, tokenizer, device):\n",
    "    results = []\n",
    "\n",
    "    # Iterate through all PDF files in the directory\n",
    "    for filename in os.listdir(directory_path):\n",
    "        if filename.endswith(\".pdf\"):\n",
    "            pdf_path = os.path.join(directory_path, filename)\n",
    "            print(f\"Processing {filename}...\")\n",
    "\n",
    "            # Predict label for the PDF\n",
    "            predicted_label = predict_label_for_pdf(pdf_path, model, tokenizer, device)\n",
    "            \n",
    "            if predicted_label is not None:\n",
    "                results.append({\"filename\": filename, \"predicted_label\": predicted_label})\n",
    "\n",
    "    # Save the results to a CSV\n",
    "    results_df = pd.DataFrame(results)\n",
    "    results_df.to_csv(output_csv, index=False)\n",
    "    print(f\"Predictions saved to {output_csv}\")\n",
    "\n",
    "# Directory containing the PDFs\n",
    "pdfs_dir = \"../Medical/Data/Infer_Data\"\n",
    "output_csv_path = \"../Medical/New_Data/predicted_labels.csv\"\n",
    "\n",
    "# Run the process using the trained model\n",
    "process_pdfs_after_training(\n",
    "    directory_path=pdfs_dir,\n",
    "    output_csv=output_csv_path,\n",
    "    model=waste_model,       # The model you trained\n",
    "    tokenizer=tokenizer,     # Tokenizer used during training\n",
    "    device=device            # Device (GPU or CPU)\n",
    ")"
   ]
  }
 ],
 "metadata": {
  "kernelspec": {
   "display_name": "nlp",
   "language": "python",
   "name": "python3"
  },
  "language_info": {
   "codemirror_mode": {
    "name": "ipython",
    "version": 3
   },
   "file_extension": ".py",
   "mimetype": "text/x-python",
   "name": "python",
   "nbconvert_exporter": "python",
   "pygments_lexer": "ipython3",
   "version": "3.12.4"
  }
 },
 "nbformat": 4,
 "nbformat_minor": 2
}
