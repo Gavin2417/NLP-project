{
 "cells": [
  {
   "cell_type": "code",
   "execution_count": 1,
   "metadata": {},
   "outputs": [
    {
     "name": "stdout",
     "output_type": "stream",
     "text": [
      "WARNING:tensorflow:From c:\\Users\\gavin\\.conda\\envs\\nlp\\Lib\\site-packages\\tf_keras\\src\\losses.py:2976: The name tf.losses.sparse_softmax_cross_entropy is deprecated. Please use tf.compat.v1.losses.sparse_softmax_cross_entropy instead.\n",
      "\n"
     ]
    }
   ],
   "source": [
    "import pandas as pd\n",
    "import numpy as np\n",
    "import torch\n",
    "import torch.nn as nn\n",
    "from datasets import Dataset\n",
    "import evaluate\n",
    "from sklearn.metrics import accuracy_score, precision_recall_fscore_support, confusion_matrix, ConfusionMatrixDisplay\n",
    "from transformers import DistilBertTokenizer, DistilBertForSequenceClassification, Trainer, TrainingArguments\n",
    "from sklearn.model_selection import train_test_split, StratifiedShuffleSplit\n",
    "import matplotlib.pyplot as plt\n",
    "from tqdm import tqdm\n",
    "import seaborn as sns"
   ]
  },
  {
   "cell_type": "markdown",
   "metadata": {},
   "source": [
    "### Load data"
   ]
  },
  {
   "cell_type": "code",
   "execution_count": 2,
   "metadata": {},
   "outputs": [],
   "source": [
    "device = torch.device(\"cuda\" if torch.cuda.is_available() else \"cpu\")"
   ]
  },
  {
   "cell_type": "code",
   "execution_count": 18,
   "metadata": {},
   "outputs": [
    {
     "name": "stdout",
     "output_type": "stream",
     "text": [
      "Total number of texts:  1998\n",
      "Total number of labels:  1998\n",
      "The unique labels are:  [0, 1]\n"
     ]
    }
   ],
   "source": [
    "data = pd.read_csv(\"raw_combined_2.csv\") \n",
    "\n",
    "# get the length of section\n",
    "print(\"Total number of texts: \", len(data['text']))\n",
    "print(\"Total number of labels: \", len(data['label']))\n",
    "\n",
    "#get unique labels\n",
    "unique_labels = list(set(data['label']))\n",
    "print(\"The unique labels are: \", unique_labels)"
   ]
  },
  {
   "cell_type": "code",
   "execution_count": 19,
   "metadata": {},
   "outputs": [
    {
     "name": "stdout",
     "output_type": "stream",
     "text": [
      "Train data:  label\n",
      "0    664\n",
      "1    534\n",
      "Name: count, dtype: int64\n",
      "Validation data:  label\n",
      "0    222\n",
      "1    178\n",
      "Name: count, dtype: int64\n",
      "Test data:  label\n",
      "0    222\n",
      "1    178\n",
      "Name: count, dtype: int64\n"
     ]
    }
   ],
   "source": [
    "# First split: 80% (train+val) and 20% (test)\n",
    "split1 = StratifiedShuffleSplit(n_splits=1, test_size=0.2, random_state=42)\n",
    "for train_val_idx, test_idx in split1.split(data, data['label']):\n",
    "    train_val_data = data.iloc[train_val_idx]\n",
    "    test_data = data.iloc[test_idx]\n",
    "\n",
    "# Second split: 60% train and 20% validation from 80% train+val\n",
    "split2 = StratifiedShuffleSplit(n_splits=1, test_size=0.25, random_state=42)\n",
    "for train_idx, val_idx in split2.split(train_val_data, train_val_data['label']):\n",
    "    train_data = train_val_data.iloc[train_idx]\n",
    "    val_data = train_val_data.iloc[val_idx]\n",
    "\n",
    "# Verify the splits on the labels\n",
    "print(\"Train data: \", train_data['label'].value_counts(normalize=False))\n",
    "print(\"Validation data: \", val_data['label'].value_counts(normalize=False))\n",
    "print(\"Test data: \", test_data['label'].value_counts(normalize=False))"
   ]
  },
  {
   "cell_type": "code",
   "execution_count": 11,
   "metadata": {},
   "outputs": [
    {
     "name": "stderr",
     "output_type": "stream",
     "text": [
      "c:\\Users\\gavin\\.conda\\envs\\nlp\\Lib\\site-packages\\transformers\\tokenization_utils_base.py:1601: FutureWarning: `clean_up_tokenization_spaces` was not set. It will be set to `True` by default. This behavior will be depracted in transformers v4.45, and will be then set to `False` by default. For more details check this issue: https://github.com/huggingface/transformers/issues/31884\n",
      "  warnings.warn(\n"
     ]
    }
   ],
   "source": [
    "accuracy_metric = evaluate.load(\"accuracy\")\n",
    "\n",
    "def compute_metrics(eval_pred):\n",
    "    logits, labels = eval_pred\n",
    "    predictions = np.argmax(logits, axis=1)\n",
    "    accuracy = accuracy_metric.compute(predictions=predictions, references=labels)\n",
    "    return {\"accuracy\": accuracy[\"accuracy\"]}\n",
    "\n",
    "tokenizer = DistilBertTokenizer.from_pretrained('distilbert-base-uncased')\n",
    "\n",
    "def tokenize_function(examples):\n",
    "    return tokenizer(examples['text'], padding=\"max_length\", truncation=True, max_length=512)"
   ]
  },
  {
   "cell_type": "code",
   "execution_count": null,
   "metadata": {},
   "outputs": [
    {
     "data": {
      "application/vnd.jupyter.widget-view+json": {
       "model_id": "43ce26b8e537414eb1c02a550d9bb67f",
       "version_major": 2,
       "version_minor": 0
      },
      "text/plain": [
       "Map:   0%|          | 0/1198 [00:00<?, ? examples/s]"
      ]
     },
     "metadata": {},
     "output_type": "display_data"
    },
    {
     "data": {
      "application/vnd.jupyter.widget-view+json": {
       "model_id": "d68ece6d51f6423a81b11752d1f7dffd",
       "version_major": 2,
       "version_minor": 0
      },
      "text/plain": [
       "Map:   0%|          | 0/400 [00:00<?, ? examples/s]"
      ]
     },
     "metadata": {},
     "output_type": "display_data"
    },
    {
     "data": {
      "application/vnd.jupyter.widget-view+json": {
       "model_id": "77d90b0c550f4f16a806719eb4761a5e",
       "version_major": 2,
       "version_minor": 0
      },
      "text/plain": [
       "Map:   0%|          | 0/400 [00:00<?, ? examples/s]"
      ]
     },
     "metadata": {},
     "output_type": "display_data"
    },
    {
     "name": "stderr",
     "output_type": "stream",
     "text": [
      "Some weights of DistilBertForSequenceClassification were not initialized from the model checkpoint at distilbert-base-uncased and are newly initialized: ['classifier.bias', 'classifier.weight', 'pre_classifier.bias', 'pre_classifier.weight']\n",
      "You should probably TRAIN this model on a down-stream task to be able to use it for predictions and inference.\n",
      "c:\\Users\\gavin\\.conda\\envs\\nlp\\Lib\\site-packages\\transformers\\training_args.py:1525: FutureWarning: `evaluation_strategy` is deprecated and will be removed in version 4.46 of 🤗 Transformers. Use `eval_strategy` instead\n",
      "  warnings.warn(\n"
     ]
    },
    {
     "data": {
      "application/vnd.jupyter.widget-view+json": {
       "model_id": "04464f210cc749db97214f7fc02f6de4",
       "version_major": 2,
       "version_minor": 0
      },
      "text/plain": [
       "  0%|          | 0/114 [00:00<?, ?it/s]"
      ]
     },
     "metadata": {},
     "output_type": "display_data"
    },
    {
     "name": "stdout",
     "output_type": "stream",
     "text": [
      "{'loss': 0.5888, 'grad_norm': 2.0406720638275146, 'learning_rate': 1.824561403508772e-05, 'epoch': 0.26}\n",
      "{'loss': 0.283, 'grad_norm': 1.6255041360855103, 'learning_rate': 1.649122807017544e-05, 'epoch': 0.53}\n",
      "{'loss': 0.1351, 'grad_norm': 2.4084293842315674, 'learning_rate': 1.4736842105263159e-05, 'epoch': 0.79}\n"
     ]
    }
   ],
   "source": [
    "train_dataset = Dataset.from_dict(train_data.to_dict(orient='list'))\n",
    "val_dataset = Dataset.from_dict(val_data.to_dict(orient='list'))\n",
    "test_dataset = Dataset.from_dict(test_data.to_dict(orient='list'))\n",
    "\n",
    "# Apply tokenization\n",
    "train_dataset = train_dataset.map(tokenize_function, batched=True)\n",
    "val_dataset = val_dataset.map(tokenize_function, batched=True)\n",
    "test_dataset = test_dataset.map(tokenize_function, batched=True)\n",
    "\n",
    "# Set the format for PyTorch\n",
    "train_dataset.set_format(type=\"torch\", columns=[\"input_ids\", \"attention_mask\", \"label\"])\n",
    "val_dataset.set_format(type=\"torch\", columns=[\"input_ids\", \"attention_mask\", \"label\"])\n",
    "test_dataset.set_format(type=\"torch\", columns=[\"input_ids\", \"attention_mask\", \"label\"])\n",
    "\n",
    "# Initialize the model\n",
    "model = DistilBertForSequenceClassification.from_pretrained('distilbert-base-uncased', num_labels=len(unique_labels))\n",
    "model = model.to(device)\n",
    "\n",
    "# Training arguments\n",
    "training_args = TrainingArguments(\n",
    "    output_dir=\"./temp\",\n",
    "    evaluation_strategy=\"epoch\",\n",
    "    save_strategy=\"epoch\",\n",
    "    learning_rate=2e-5,\n",
    "    per_device_train_batch_size=32,\n",
    "    per_device_eval_batch_size=64,\n",
    "    num_train_epochs=3,\n",
    "    weight_decay=0.01,\n",
    "    logging_dir=None,\n",
    "    logging_steps=10,\n",
    "    load_best_model_at_end=True,\n",
    "    metric_for_best_model=\"accuracy\",  # Matches the key in compute_metrics\n",
    "    save_total_limit=2\n",
    ")\n",
    "\n",
    "# Define Trainer\n",
    "trainer = Trainer(\n",
    "    model=model,\n",
    "    args=training_args,\n",
    "    train_dataset=train_dataset,\n",
    "    eval_dataset=val_dataset,\n",
    "    tokenizer=tokenizer,\n",
    "    compute_metrics=compute_metrics\n",
    ")\n",
    "# Train the model\n",
    "trainer.train()"
   ]
  },
  {
   "cell_type": "code",
   "execution_count": null,
   "metadata": {},
   "outputs": [
    {
     "data": {
      "application/vnd.jupyter.widget-view+json": {
       "model_id": "625f73446bc14b44bced1088cf12142c",
       "version_major": 2,
       "version_minor": 0
      },
      "text/plain": [
       "  0%|          | 0/7 [00:00<?, ?it/s]"
      ]
     },
     "metadata": {},
     "output_type": "display_data"
    },
    {
     "name": "stdout",
     "output_type": "stream",
     "text": [
      "Accuracy: 0.9950\n",
      "Precision: 0.9950\n",
      "Recall: 0.9950\n",
      "F1 Score: 0.9950\n"
     ]
    },
    {
     "data": {
      "image/png": "[encoded data removed]",
      "text/plain": [
       "<Figure size 640x480 with 2 Axes>"
      ]
     },
     "metadata": {},
     "output_type": "display_data"
    }
   ],
   "source": [
    "# Predict on the test dataset\n",
    "predictions = trainer.predict(test_dataset)\n",
    "\n",
    "# Extract logits and true labels\n",
    "logits = predictions.predictions\n",
    "predicted_labels = np.argmax(logits, axis=1)  # Predicted class\n",
    "true_labels = predictions.label_ids  # True labels\n",
    "\n",
    "# Generate the confusion matrix\n",
    "cm = confusion_matrix(true_labels, predicted_labels)\n",
    "\n",
    "# Calculate metrics\n",
    "accuracy = accuracy_score(true_labels, predicted_labels)\n",
    "precision, recall, f1, _ = precision_recall_fscore_support(true_labels, predicted_labels, average='weighted')\n",
    "print(f\"Accuracy: {accuracy:.4f}\")\n",
    "print(f\"Precision: {precision:.4f}\")\n",
    "print(f\"Recall: {recall:.4f}\")\n",
    "print(f\"F1 Score: {f1:.4f}\")\n",
    "\n",
    "# Step 5: Visualize the confusion matrix\n",
    "disp = ConfusionMatrixDisplay(confusion_matrix=cm, display_labels=unique_labels)  # Replace unique_labels with your label names\n",
    "disp.plot(cmap=plt.cm.Blues)\n",
    "plt.title(\"Confusion Matrix\")\n",
    "plt.show()"
   ]
  },
  {
   "cell_type": "markdown",
   "metadata": {},
   "source": [
    "### Second fine-tuning"
   ]
  },
  {
   "cell_type": "code",
   "execution_count": 5,
   "metadata": {},
   "outputs": [
    {
     "name": "stdout",
     "output_type": "stream",
     "text": [
      "Total number of texts:  12\n",
      "Total number of labels:  12\n",
      "The number of papers per label are:  label\n",
      "1    10\n",
      "0     2\n",
      "Name: count, dtype: int64\n"
     ]
    }
   ],
   "source": [
    "waste_data = pd.read_csv(\"New_Data/waste_data.csv\")\n",
    "\n",
    "# get the length of section\n",
    "print(\"Total number of texts: \", len(waste_data['text']))\n",
    "print(\"Total number of labels: \", len(waste_data['label']))\n",
    "\n",
    "#get number of papers per label\n",
    "print(\"The number of papers per label are: \", waste_data['label'].value_counts(normalize=False))\n"
   ]
  },
  {
   "cell_type": "code",
   "execution_count": 9,
   "metadata": {},
   "outputs": [
    {
     "name": "stdout",
     "output_type": "stream",
     "text": [
      "\n",
      "Train Data:\n",
      "label\n",
      "1    7\n",
      "0    1\n",
      "Name: count, dtype: int64\n",
      "\n",
      "Validation Data:\n",
      "label\n",
      "1    3\n",
      "0    1\n",
      "Name: count, dtype: int64\n"
     ]
    }
   ],
   "source": [
    "# Separate the data by label\n",
    "label_1_data = waste_data[waste_data['label'] == 1]\n",
    "label_0_data = waste_data[waste_data['label'] == 0]\n",
    "\n",
    "# Assign 7 papers with label 1 and 1 paper with label 0 to the train set\n",
    "waste_train_data = pd.concat([label_1_data.iloc[:7], label_0_data.iloc[:1]])\n",
    "\n",
    "# Assign the remaining data to the validation set\n",
    "waste_val_data = pd.concat([label_1_data.iloc[7:], label_0_data.iloc[1:]])\n",
    "\n",
    "# Print the resulting splits\n",
    "print(\"\\nTrain Data:\")\n",
    "print(waste_train_data['label'].value_counts())\n",
    "print(\"\\nValidation Data:\")\n",
    "print(waste_val_data['label'].value_counts())"
   ]
  },
  {
   "cell_type": "code",
   "execution_count": null,
   "metadata": {},
   "outputs": [
    {
     "data": {
      "application/vnd.jupyter.widget-view+json": {
       "model_id": "846b210e84f949c89697bfbe305cf157",
       "version_major": 2,
       "version_minor": 0
      },
      "text/plain": [
       "Map:   0%|          | 0/8 [00:00<?, ? examples/s]"
      ]
     },
     "metadata": {},
     "output_type": "display_data"
    },
    {
     "data": {
      "application/vnd.jupyter.widget-view+json": {
       "model_id": "7501affb3250479ba57d3cc8b3d8a538",
       "version_major": 2,
       "version_minor": 0
      },
      "text/plain": [
       "Map:   0%|          | 0/4 [00:00<?, ? examples/s]"
      ]
     },
     "metadata": {},
     "output_type": "display_data"
    },
    {
     "name": "stderr",
     "output_type": "stream",
     "text": [
      "Some weights of DistilBertForSequenceClassification were not initialized from the model checkpoint at distilbert-base-uncased and are newly initialized: ['classifier.bias', 'classifier.weight', 'pre_classifier.bias', 'pre_classifier.weight']\n",
      "You should probably TRAIN this model on a down-stream task to be able to use it for predictions and inference.\n",
      "c:\\Users\\gavin\\.conda\\envs\\nlp\\Lib\\site-packages\\transformers\\training_args.py:1525: FutureWarning: `evaluation_strategy` is deprecated and will be removed in version 4.46 of 🤗 Transformers. Use `eval_strategy` instead\n",
      "  warnings.warn(\n"
     ]
    },
    {
     "data": {
      "application/vnd.jupyter.widget-view+json": {
       "model_id": "602e0bd09df34fae880438cffc83cab2",
       "version_major": 2,
       "version_minor": 0
      },
      "text/plain": [
       "  0%|          | 0/13 [00:00<?, ?it/s]"
      ]
     },
     "metadata": {},
     "output_type": "display_data"
    }
   ],
   "source": [
    "waste_train_dataset = Dataset.from_dict(waste_train_data.to_dict(orient='list'))\n",
    "waste_val_dataset = Dataset.from_dict(waste_val_data.to_dict(orient='list'))\n",
    "\n",
    "\n",
    "# Apply tokenization\n",
    "waste_train_dataset = waste_train_dataset.map(tokenize_function, batched=True)\n",
    "waste_val_dataset = waste_val_dataset.map(tokenize_function, batched=True)\n",
    "\n",
    "\n",
    "# Set the format for PyTorch\n",
    "waste_train_dataset.set_format(type=\"torch\", columns=[\"input_ids\", \"attention_mask\", \"label\"])\n",
    "waste_val_dataset.set_format(type=\"torch\", columns=[\"input_ids\", \"attention_mask\", \"label\"])\n",
    "\n",
    "# Initialize the model\n",
    "waste_model = DistilBertForSequenceClassification.from_pretrained('distilbert-base-uncased', num_labels=2)\n",
    "waste_model = waste_model.to(device)\n",
    "# Training arguments\n",
    "waste_training_args = TrainingArguments(\n",
    "    output_dir=\"./temp\",\n",
    "    evaluation_strategy=\"epoch\",\n",
    "    save_strategy=\"epoch\",\n",
    "    learning_rate=2e-5,\n",
    "    per_device_train_batch_size=16,\n",
    "    per_device_eval_batch_size=64,\n",
    "    num_train_epochs=13,\n",
    "    weight_decay=0.01,\n",
    "    logging_dir=None,\n",
    "    logging_steps=10,\n",
    "    load_best_model_at_end=True,\n",
    "    metric_for_best_model=\"accuracy\",  # Matches the key in compute_metrics\n",
    "    save_total_limit=2\n",
    ")\n",
    "\n",
    "# Define Trainer\n",
    "waste_trainer = Trainer(\n",
    "    model=waste_model,\n",
    "    args=waste_training_args,\n",
    "    train_dataset=waste_train_dataset,\n",
    "    eval_dataset=waste_val_dataset,\n",
    "    tokenizer=tokenizer,\n",
    "    compute_metrics=compute_metrics\n",
    ")\n",
    "# Train the model\n",
    "waste_trainer.train()"
   ]
  }
 ],
 "metadata": {
  "kernelspec": {
   "display_name": "nlp",
   "language": "python",
   "name": "python3"
  },
  "language_info": {
   "codemirror_mode": {
    "name": "ipython",
    "version": 3
   },
   "file_extension": ".py",
   "mimetype": "text/x-python",
   "name": "python",
   "nbconvert_exporter": "python",
   "pygments_lexer": "ipython3",
   "version": "3.12.4"
  }
 },
 "nbformat": 4,
 "nbformat_minor": 2
}
