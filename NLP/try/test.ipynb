{
 "cells": [
  {
   "cell_type": "code",
   "execution_count": 5,
   "metadata": {},
   "outputs": [],
   "source": [
    "import os\n",
    "import pandas as pd\n",
    "import fitz  # PyMuPDF\n",
    "import re\n",
    "def extract_text_from_pdf(pdf_path):\n",
    "    try:\n",
    "        doc = fitz.open(pdf_path)\n",
    "        full_text = \"\"\n",
    "        for page_num in range(doc.page_count):\n",
    "            page = doc.load_page(page_num)\n",
    "            full_text += page.get_text().strip()\n",
    "        \n",
    "        # Define regex patterns for abstract and introduction to handle both normal and spaced-out letters.\n",
    "        abstract_pattern = r'(?:abstract|a\\s*?b\\s*?s\\s*?t\\s*?r\\s*?a\\s*?c\\s*?t)'\n",
    "        introduction_pattern = r'(?:introduction|i\\s*?n\\s*?t\\s*?r\\s*?o\\s*?d\\s*?u\\s*?c\\s*?t\\s*?i\\s*?o\\s*?n)'\n",
    "        \n",
    "        # Use regex to extract text from \"abstract\" to \"introduction\"\n",
    "        pattern = re.compile(abstract_pattern + r'(.*?)' + r'(?=' + introduction_pattern + r')', re.IGNORECASE | re.DOTALL)\n",
    "        match = pattern.search(full_text)\n",
    "        if match:\n",
    "            extracted_text = match.group(1).strip()\n",
    "            return extracted_text\n",
    "        else:\n",
    "            print(\"Could not find the section between 'abstract' and 'introduction'.\")\n",
    "            return \"\"\n",
    "    except Exception as e:\n",
    "        print(f\"Error extracting text from {pdf_path}: {e}\")\n",
    "        return \"\"\n",
    "    "
   ]
  },
  {
   "cell_type": "code",
   "execution_count": 6,
   "metadata": {},
   "outputs": [
    {
     "name": "stdout",
     "output_type": "stream",
     "text": [
      "Error extracting text from ../NLP/pdf_data/test/abah 2022.pdf: no such file: '../NLP/pdf_data/test/abah 2022.pdf'\n"
     ]
    },
    {
     "data": {
      "text/plain": [
       "''"
      ]
     },
     "execution_count": 6,
     "metadata": {},
     "output_type": "execute_result"
    }
   ],
   "source": [
    "extract_text_from_pdf(\"../NLP/pdf_data/test/abah 2022.pdf\")"
   ]
  },
  {
   "cell_type": "code",
   "execution_count": 7,
   "metadata": {},
   "outputs": [
    {
     "ename": "NameError",
     "evalue": "name 't' is not defined",
     "output_type": "error",
     "traceback": [
      "\u001b[1;31m---------------------------------------------------------------------------\u001b[0m",
      "\u001b[1;31mNameError\u001b[0m                                 Traceback (most recent call last)",
      "Cell \u001b[1;32mIn[7], line 2\u001b[0m\n\u001b[0;32m      1\u001b[0m \u001b[38;5;66;03m# count how many words in the extracted text\u001b[39;00m\n\u001b[1;32m----> 2\u001b[0m \u001b[38;5;28mprint\u001b[39m(\u001b[38;5;28mlen\u001b[39m(\u001b[43mt\u001b[49m\u001b[38;5;241m.\u001b[39msplit()))\n",
      "\u001b[1;31mNameError\u001b[0m: name 't' is not defined"
     ]
    }
   ],
   "source": [
    "# count how many words in the extracted text\n",
    "print(len(t.split()))"
   ]
  },
  {
   "cell_type": "code",
   "execution_count": null,
   "metadata": {},
   "outputs": [],
   "source": [
    "# list the pdf fiel in the directorires\n"
   ]
  }
 ],
 "metadata": {
  "kernelspec": {
   "display_name": "nlp",
   "language": "python",
   "name": "python3"
  },
  "language_info": {
   "codemirror_mode": {
    "name": "ipython",
    "version": 3
   },
   "file_extension": ".py",
   "mimetype": "text/x-python",
   "name": "python",
   "nbconvert_exporter": "python",
   "pygments_lexer": "ipython3",
   "version": "3.12.4"
  }
 },
 "nbformat": 4,
 "nbformat_minor": 2
}
