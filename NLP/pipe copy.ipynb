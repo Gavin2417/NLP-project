{
 "cells": [
  {
   "cell_type": "code",
   "execution_count": 7,
   "metadata": {},
   "outputs": [],
   "source": [
    "import pandas as pd\n",
    "import numpy as np\n",
    "import torch\n",
    "import torch.nn as nn\n",
    "from datasets import Dataset\n",
    "import evaluate\n",
    "from sklearn.metrics import accuracy_score, precision_recall_fscore_support, confusion_matrix, ConfusionMatrixDisplay\n",
    "from transformers import DistilBertTokenizer, DistilBertForSequenceClassification, Trainer, TrainingArguments\n",
    "from sklearn.model_selection import train_test_split, StratifiedShuffleSplit\n",
    "import matplotlib.pyplot as plt\n",
    "from tqdm import tqdm\n",
    "import seaborn as sns"
   ]
  },
  {
   "cell_type": "markdown",
   "metadata": {},
   "source": [
    "### Load data"
   ]
  },
  {
   "cell_type": "code",
   "execution_count": 8,
   "metadata": {},
   "outputs": [],
   "source": [
    "device = torch.device(\"cuda\" if torch.cuda.is_available() else \"cpu\")"
   ]
  },
  {
   "cell_type": "code",
   "execution_count": 9,
   "metadata": {},
   "outputs": [
    {
     "name": "stdout",
     "output_type": "stream",
     "text": [
      "Total number of texts:  1998\n",
      "Total number of labels:  1998\n",
      "The unique labels are:  [0, 1]\n"
     ]
    }
   ],
   "source": [
    "data = pd.read_csv(\"csv_data/raw_combined_2.csv\") \n",
    "\n",
    "# get the length of section\n",
    "print(\"Total number of texts: \", len(data['text']))\n",
    "print(\"Total number of labels: \", len(data['label']))\n",
    "\n",
    "#get unique labels\n",
    "unique_labels = list(set(data['label']))\n",
    "print(\"The unique labels are: \", unique_labels)"
   ]
  },
  {
   "cell_type": "code",
   "execution_count": 10,
   "metadata": {},
   "outputs": [
    {
     "name": "stdout",
     "output_type": "stream",
     "text": [
      "Train data:  label\n",
      "0    664\n",
      "1    534\n",
      "Name: count, dtype: int64\n",
      "\n",
      "Validation data:  label\n",
      "0    222\n",
      "1    178\n",
      "Name: count, dtype: int64\n",
      "\n",
      "Test data:  label\n",
      "0    222\n",
      "1    178\n",
      "Name: count, dtype: int64\n"
     ]
    }
   ],
   "source": [
    "# First split: 80% (train+val) and 20% (test)\n",
    "split1 = StratifiedShuffleSplit(n_splits=1, test_size=0.2, random_state=42)\n",
    "for train_val_idx, test_idx in split1.split(data, data['label']):\n",
    "    train_val_data = data.iloc[train_val_idx]\n",
    "    test_data = data.iloc[test_idx]\n",
    "\n",
    "# Second split: 60% train and 20% validation from 80% train+val\n",
    "split2 = StratifiedShuffleSplit(n_splits=1, test_size=0.25, random_state=42)\n",
    "for train_idx, val_idx in split2.split(train_val_data, train_val_data['label']):\n",
    "    train_data = train_val_data.iloc[train_idx]\n",
    "    val_data = train_val_data.iloc[val_idx]\n",
    "\n",
    "# Verify the splits on the labels\n",
    "print(\"Train data: \", train_data['label'].value_counts(normalize=False))\n",
    "print()\n",
    "print(\"Validation data: \", val_data['label'].value_counts(normalize=False))\n",
    "print()\n",
    "print(\"Test data: \", test_data['label'].value_counts(normalize=False))"
   ]
  },
  {
   "cell_type": "code",
   "execution_count": 11,
   "metadata": {},
   "outputs": [
    {
     "name": "stderr",
     "output_type": "stream",
     "text": [
      "c:\\Users\\gavin\\.conda\\envs\\nlp\\Lib\\site-packages\\transformers\\tokenization_utils_base.py:1601: FutureWarning: `clean_up_tokenization_spaces` was not set. It will be set to `True` by default. This behavior will be depracted in transformers v4.45, and will be then set to `False` by default. For more details check this issue: https://github.com/huggingface/transformers/issues/31884\n",
      "  warnings.warn(\n"
     ]
    }
   ],
   "source": [
    "accuracy_metric = evaluate.load(\"accuracy\")\n",
    "\n",
    "def compute_metrics(eval_pred):\n",
    "    logits, labels = eval_pred\n",
    "    predictions = np.argmax(logits, axis=1)\n",
    "    accuracy = accuracy_metric.compute(predictions=predictions, references=labels)\n",
    "    return {\"accuracy\": accuracy[\"accuracy\"]}\n",
    "\n",
    "tokenizer = DistilBertTokenizer.from_pretrained('distilbert-base-uncased')\n",
    "\n",
    "def tokenize_function(examples):\n",
    "    return tokenizer(examples['text'], padding=\"max_length\", truncation=True, max_length=512)"
   ]
  },
  {
   "cell_type": "code",
   "execution_count": 12,
   "metadata": {},
   "outputs": [
    {
     "data": {
      "application/vnd.jupyter.widget-view+json": {
       "model_id": "6dd06858b8a2412a895fc8aefe09a605",
       "version_major": 2,
       "version_minor": 0
      },
      "text/plain": [
       "Map:   0%|          | 0/1198 [00:00<?, ? examples/s]"
      ]
     },
     "metadata": {},
     "output_type": "display_data"
    },
    {
     "data": {
      "application/vnd.jupyter.widget-view+json": {
       "model_id": "332e9328d76b4dc28e906023d163e382",
       "version_major": 2,
       "version_minor": 0
      },
      "text/plain": [
       "Map:   0%|          | 0/400 [00:00<?, ? examples/s]"
      ]
     },
     "metadata": {},
     "output_type": "display_data"
    },
    {
     "data": {
      "application/vnd.jupyter.widget-view+json": {
       "model_id": "d925a3e5d71041d7be045da184a99c1f",
       "version_major": 2,
       "version_minor": 0
      },
      "text/plain": [
       "Map:   0%|          | 0/400 [00:00<?, ? examples/s]"
      ]
     },
     "metadata": {},
     "output_type": "display_data"
    },
    {
     "name": "stderr",
     "output_type": "stream",
     "text": [
      "Some weights of DistilBertForSequenceClassification were not initialized from the model checkpoint at distilbert-base-uncased and are newly initialized: ['classifier.bias', 'classifier.weight', 'pre_classifier.bias', 'pre_classifier.weight']\n",
      "You should probably TRAIN this model on a down-stream task to be able to use it for predictions and inference.\n",
      "c:\\Users\\gavin\\.conda\\envs\\nlp\\Lib\\site-packages\\transformers\\training_args.py:1525: FutureWarning: `evaluation_strategy` is deprecated and will be removed in version 4.46 of 🤗 Transformers. Use `eval_strategy` instead\n",
      "  warnings.warn(\n"
     ]
    },
    {
     "data": {
      "application/vnd.jupyter.widget-view+json": {
       "model_id": "bcfd34213a5a4a20875e744c295d08ca",
       "version_major": 2,
       "version_minor": 0
      },
      "text/plain": [
       "  0%|          | 0/114 [00:00<?, ?it/s]"
      ]
     },
     "metadata": {},
     "output_type": "display_data"
    },
    {
     "name": "stdout",
     "output_type": "stream",
     "text": [
      "{'loss': 0.5938, 'grad_norm': 2.034734010696411, 'learning_rate': 1.824561403508772e-05, 'epoch': 0.26}\n",
      "{'loss': 0.2634, 'grad_norm': 1.365644931793213, 'learning_rate': 1.649122807017544e-05, 'epoch': 0.53}\n",
      "{'loss': 0.1167, 'grad_norm': 2.262444019317627, 'learning_rate': 1.4736842105263159e-05, 'epoch': 0.79}\n"
     ]
    },
    {
     "data": {
      "application/vnd.jupyter.widget-view+json": {
       "model_id": "95d79e056f8b4de48cfeb9b3c8d2f272",
       "version_major": 2,
       "version_minor": 0
      },
      "text/plain": [
       "  0%|          | 0/7 [00:00<?, ?it/s]"
      ]
     },
     "metadata": {},
     "output_type": "display_data"
    },
    {
     "name": "stdout",
     "output_type": "stream",
     "text": [
      "{'eval_loss': 0.047243695706129074, 'eval_accuracy': 0.99, 'eval_runtime': 26.9481, 'eval_samples_per_second': 14.843, 'eval_steps_per_second': 0.26, 'epoch': 1.0}\n",
      "{'loss': 0.0765, 'grad_norm': 1.2267094850540161, 'learning_rate': 1.2982456140350879e-05, 'epoch': 1.05}\n",
      "{'loss': 0.0555, 'grad_norm': 3.0101921558380127, 'learning_rate': 1.1228070175438597e-05, 'epoch': 1.32}\n",
      "{'loss': 0.0222, 'grad_norm': 0.19731447100639343, 'learning_rate': 9.473684210526315e-06, 'epoch': 1.58}\n",
      "{'loss': 0.0211, 'grad_norm': 7.405792236328125, 'learning_rate': 7.719298245614036e-06, 'epoch': 1.84}\n"
     ]
    },
    {
     "data": {
      "application/vnd.jupyter.widget-view+json": {
       "model_id": "5df8c02daad948dba272c208b6e97d07",
       "version_major": 2,
       "version_minor": 0
      },
      "text/plain": [
       "  0%|          | 0/7 [00:00<?, ?it/s]"
      ]
     },
     "metadata": {},
     "output_type": "display_data"
    },
    {
     "name": "stdout",
     "output_type": "stream",
     "text": [
      "{'eval_loss': 0.021693754941225052, 'eval_accuracy': 0.995, 'eval_runtime': 27.6521, 'eval_samples_per_second': 14.465, 'eval_steps_per_second': 0.253, 'epoch': 2.0}\n",
      "{'loss': 0.033, 'grad_norm': 0.13411268591880798, 'learning_rate': 5.964912280701755e-06, 'epoch': 2.11}\n",
      "{'loss': 0.0128, 'grad_norm': 0.17694099247455597, 'learning_rate': 4.210526315789474e-06, 'epoch': 2.37}\n",
      "{'loss': 0.0118, 'grad_norm': 0.12361937016248703, 'learning_rate': 2.456140350877193e-06, 'epoch': 2.63}\n",
      "{'loss': 0.0251, 'grad_norm': 0.3400576412677765, 'learning_rate': 7.017543859649123e-07, 'epoch': 2.89}\n"
     ]
    },
    {
     "data": {
      "application/vnd.jupyter.widget-view+json": {
       "model_id": "30aa001f07fc43179514d0fc66838b06",
       "version_major": 2,
       "version_minor": 0
      },
      "text/plain": [
       "  0%|          | 0/7 [00:00<?, ?it/s]"
      ]
     },
     "metadata": {},
     "output_type": "display_data"
    },
    {
     "name": "stdout",
     "output_type": "stream",
     "text": [
      "{'eval_loss': 0.019699471071362495, 'eval_accuracy': 0.995, 'eval_runtime': 27.9374, 'eval_samples_per_second': 14.318, 'eval_steps_per_second': 0.251, 'epoch': 3.0}\n",
      "{'train_runtime': 612.067, 'train_samples_per_second': 5.872, 'train_steps_per_second': 0.186, 'train_loss': 0.10858123128612836, 'epoch': 3.0}\n"
     ]
    },
    {
     "data": {
      "text/plain": [
       "TrainOutput(global_step=114, training_loss=0.10858123128612836, metrics={'train_runtime': 612.067, 'train_samples_per_second': 5.872, 'train_steps_per_second': 0.186, 'total_flos': 476087830769664.0, 'train_loss': 0.10858123128612836, 'epoch': 3.0})"
      ]
     },
     "execution_count": 12,
     "metadata": {},
     "output_type": "execute_result"
    }
   ],
   "source": [
    "train_dataset = Dataset.from_dict(train_data.to_dict(orient='list'))\n",
    "val_dataset = Dataset.from_dict(val_data.to_dict(orient='list'))\n",
    "test_dataset = Dataset.from_dict(test_data.to_dict(orient='list'))\n",
    "\n",
    "# Apply tokenization\n",
    "train_dataset = train_dataset.map(tokenize_function, batched=True)\n",
    "val_dataset = val_dataset.map(tokenize_function, batched=True)\n",
    "test_dataset = test_dataset.map(tokenize_function, batched=True)\n",
    "\n",
    "# Set the format for PyTorch\n",
    "train_dataset.set_format(type=\"torch\", columns=[\"input_ids\", \"attention_mask\", \"label\"])\n",
    "val_dataset.set_format(type=\"torch\", columns=[\"input_ids\", \"attention_mask\", \"label\"])\n",
    "test_dataset.set_format(type=\"torch\", columns=[\"input_ids\", \"attention_mask\", \"label\"])\n",
    "\n",
    "# Initialize the model\n",
    "model = DistilBertForSequenceClassification.from_pretrained('distilbert-base-uncased', num_labels=len(unique_labels))\n",
    "model = model.to(device)\n",
    "\n",
    "# Training arguments\n",
    "training_args = TrainingArguments(\n",
    "    output_dir=\"./temp\",\n",
    "    evaluation_strategy=\"epoch\",\n",
    "    save_strategy=\"epoch\",\n",
    "    learning_rate=2e-5,\n",
    "    per_device_train_batch_size=32,\n",
    "    per_device_eval_batch_size=64,\n",
    "    num_train_epochs=3,\n",
    "    weight_decay=0.01,\n",
    "    logging_dir=None,\n",
    "    logging_steps=10,\n",
    "    load_best_model_at_end=True,\n",
    "    metric_for_best_model=\"accuracy\",  # Matches the key in compute_metrics\n",
    "    save_total_limit=2\n",
    ")\n",
    "\n",
    "# Define Trainer\n",
    "trainer = Trainer(\n",
    "    model=model,\n",
    "    args=training_args,\n",
    "    train_dataset=train_dataset,\n",
    "    eval_dataset=val_dataset,\n",
    "    tokenizer=tokenizer,\n",
    "    compute_metrics=compute_metrics\n",
    ")\n",
    "# Train the model\n",
    "trainer.train()"
   ]
  },
  {
   "cell_type": "code",
   "execution_count": 13,
   "metadata": {},
   "outputs": [
    {
     "data": {
      "application/vnd.jupyter.widget-view+json": {
       "model_id": "8d21f1c7f0b5418cba0b8953eda204b9",
       "version_major": 2,
       "version_minor": 0
      },
      "text/plain": [
       "  0%|          | 0/7 [00:00<?, ?it/s]"
      ]
     },
     "metadata": {},
     "output_type": "display_data"
    },
    {
     "name": "stdout",
     "output_type": "stream",
     "text": [
      "Accuracy: 0.9925\n",
      "Precision: 0.9925\n",
      "Recall: 0.9925\n",
      "F1 Score: 0.9925\n"
     ]
    },
    {
     "data": {
      "image/png": "[encoded data removed]",
      "text/plain": [
       "<Figure size 640x480 with 2 Axes>"
      ]
     },
     "metadata": {},
     "output_type": "display_data"
    }
   ],
   "source": [
    "# Predict on the test dataset\n",
    "predictions = trainer.predict(test_dataset)\n",
    "\n",
    "# Extract logits and true labels\n",
    "logits = predictions.predictions\n",
    "predicted_labels = np.argmax(logits, axis=1)  # Predicted class\n",
    "true_labels = predictions.label_ids  # True labels\n",
    "\n",
    "# Generate the confusion matrix\n",
    "cm = confusion_matrix(true_labels, predicted_labels)\n",
    "\n",
    "# Calculate metrics\n",
    "accuracy = accuracy_score(true_labels, predicted_labels)\n",
    "precision, recall, f1, _ = precision_recall_fscore_support(true_labels, predicted_labels, average='weighted')\n",
    "print(f\"Accuracy: {accuracy:.4f}\")\n",
    "print(f\"Precision: {precision:.4f}\")\n",
    "print(f\"Recall: {recall:.4f}\")\n",
    "print(f\"F1 Score: {f1:.4f}\")\n",
    "\n",
    "# Step 5: Visualize the confusion matrix\n",
    "disp = ConfusionMatrixDisplay(confusion_matrix=cm, display_labels=unique_labels)  # Replace unique_labels with your label names\n",
    "disp.plot(cmap=plt.cm.Blues)\n",
    "plt.title(\"Confusion Matrix\")\n",
    "plt.show()"
   ]
  },
  {
   "cell_type": "code",
   "execution_count": 14,
   "metadata": {},
   "outputs": [],
   "source": [
    "# save the model for later use\n",
    "# torch.save(model.state_dict(), \"medical_modle.pth\")"
   ]
  },
  {
   "cell_type": "markdown",
   "metadata": {},
   "source": [
    "### Second fine-tuning"
   ]
  },
  {
   "cell_type": "code",
   "execution_count": 15,
   "metadata": {},
   "outputs": [
    {
     "name": "stdout",
     "output_type": "stream",
     "text": [
      "Total number of texts:  40\n",
      "Total number of labels:  40\n",
      "The number of papers per label are:  label\n",
      "1    20\n",
      "0    20\n",
      "Name: count, dtype: int64\n"
     ]
    }
   ],
   "source": [
    "waste_data = pd.read_csv(\"csv_data/waste_40.csv\")\n",
    "\n",
    "# get the length of section\n",
    "print(\"Total number of texts: \", len(waste_data['text']))\n",
    "print(\"Total number of labels: \", len(waste_data['label']))\n",
    "\n",
    "#get number of papers per label\n",
    "print(\"The number of papers per label are: \", waste_data['label'].value_counts(normalize=False))\n"
   ]
  },
  {
   "cell_type": "code",
   "execution_count": 16,
   "metadata": {},
   "outputs": [
    {
     "name": "stdout",
     "output_type": "stream",
     "text": [
      "Train data:  label\n",
      "0    10\n",
      "1    10\n",
      "Name: count, dtype: int64\n",
      "\n",
      "Validation data:  label\n",
      "1    10\n",
      "0    10\n",
      "Name: count, dtype: int64\n",
      "\n"
     ]
    }
   ],
   "source": [
    "# First split: 80% (train+val) and 20% (test)\n",
    "split1 = StratifiedShuffleSplit(n_splits=1, test_size=0.5, random_state=44)\n",
    "for train_idx, val_idx in split1.split(waste_data, waste_data['label']):\n",
    "    waste_train_data = waste_data.iloc[train_idx]\n",
    "    waste_val_data = waste_data.iloc[val_idx]\n",
    "\n",
    "\n",
    "# Verify the splits on the labels\n",
    "print(\"Train data: \", waste_train_data['label'].value_counts(normalize=False))\n",
    "print()\n",
    "print(\"Validation data: \", waste_val_data['label'].value_counts(normalize=False))\n",
    "print()"
   ]
  },
  {
   "cell_type": "code",
   "execution_count": 17,
   "metadata": {},
   "outputs": [
    {
     "data": {
      "application/vnd.jupyter.widget-view+json": {
       "model_id": "ef45582d524f4e23b9105dd7882a6b2a",
       "version_major": 2,
       "version_minor": 0
      },
      "text/plain": [
       "Map:   0%|          | 0/20 [00:00<?, ? examples/s]"
      ]
     },
     "metadata": {},
     "output_type": "display_data"
    },
    {
     "data": {
      "application/vnd.jupyter.widget-view+json": {
       "model_id": "5b78bc27c97947adbad0c44259617b14",
       "version_major": 2,
       "version_minor": 0
      },
      "text/plain": [
       "Map:   0%|          | 0/20 [00:00<?, ? examples/s]"
      ]
     },
     "metadata": {},
     "output_type": "display_data"
    },
    {
     "name": "stderr",
     "output_type": "stream",
     "text": [
      "c:\\Users\\gavin\\.conda\\envs\\nlp\\Lib\\site-packages\\transformers\\training_args.py:1525: FutureWarning: `evaluation_strategy` is deprecated and will be removed in version 4.46 of 🤗 Transformers. Use `eval_strategy` instead\n",
      "  warnings.warn(\n"
     ]
    },
    {
     "data": {
      "application/vnd.jupyter.widget-view+json": {
       "model_id": "6d1c1cb1631542828e398c3e6f21b5d1",
       "version_major": 2,
       "version_minor": 0
      },
      "text/plain": [
       "  0%|          | 0/20 [00:00<?, ?it/s]"
      ]
     },
     "metadata": {},
     "output_type": "display_data"
    },
    {
     "data": {
      "application/vnd.jupyter.widget-view+json": {
       "model_id": "993daa6be76b4e1e8fd19cd7c4386b4b",
       "version_major": 2,
       "version_minor": 0
      },
      "text/plain": [
       "  0%|          | 0/1 [00:00<?, ?it/s]"
      ]
     },
     "metadata": {},
     "output_type": "display_data"
    },
    {
     "name": "stdout",
     "output_type": "stream",
     "text": [
      "{'eval_loss': 0.772645115852356, 'eval_accuracy': 0.75, 'eval_runtime': 0.2086, 'eval_samples_per_second': 95.86, 'eval_steps_per_second': 4.793, 'epoch': 1.0}\n"
     ]
    },
    {
     "data": {
      "application/vnd.jupyter.widget-view+json": {
       "model_id": "f330ba4217334d84a90e9705026c9b07",
       "version_major": 2,
       "version_minor": 0
      },
      "text/plain": [
       "  0%|          | 0/1 [00:00<?, ?it/s]"
      ]
     },
     "metadata": {},
     "output_type": "display_data"
    },
    {
     "name": "stdout",
     "output_type": "stream",
     "text": [
      "{'eval_loss': 0.7095397114753723, 'eval_accuracy': 0.8, 'eval_runtime': 0.1939, 'eval_samples_per_second': 103.147, 'eval_steps_per_second': 5.157, 'epoch': 2.0}\n"
     ]
    },
    {
     "data": {
      "application/vnd.jupyter.widget-view+json": {
       "model_id": "0725d9e2b8f14b7c93d0d89258802497",
       "version_major": 2,
       "version_minor": 0
      },
      "text/plain": [
       "  0%|          | 0/1 [00:00<?, ?it/s]"
      ]
     },
     "metadata": {},
     "output_type": "display_data"
    },
    {
     "name": "stdout",
     "output_type": "stream",
     "text": [
      "{'eval_loss': 0.6590267419815063, 'eval_accuracy': 0.75, 'eval_runtime': 0.204, 'eval_samples_per_second': 98.022, 'eval_steps_per_second': 4.901, 'epoch': 3.0}\n"
     ]
    },
    {
     "data": {
      "application/vnd.jupyter.widget-view+json": {
       "model_id": "db87785074e144e3be06506101874f54",
       "version_major": 2,
       "version_minor": 0
      },
      "text/plain": [
       "  0%|          | 0/1 [00:00<?, ?it/s]"
      ]
     },
     "metadata": {},
     "output_type": "display_data"
    },
    {
     "name": "stdout",
     "output_type": "stream",
     "text": [
      "{'eval_loss': 0.6191600561141968, 'eval_accuracy': 0.75, 'eval_runtime': 0.2017, 'eval_samples_per_second': 99.175, 'eval_steps_per_second': 4.959, 'epoch': 4.0}\n",
      "{'loss': 0.9881, 'grad_norm': 11.530113220214844, 'learning_rate': 1e-05, 'epoch': 5.0}\n"
     ]
    },
    {
     "data": {
      "application/vnd.jupyter.widget-view+json": {
       "model_id": "e1558faf911a4c439e8d12c8e7c2090c",
       "version_major": 2,
       "version_minor": 0
      },
      "text/plain": [
       "  0%|          | 0/1 [00:00<?, ?it/s]"
      ]
     },
     "metadata": {},
     "output_type": "display_data"
    },
    {
     "name": "stdout",
     "output_type": "stream",
     "text": [
      "{'eval_loss': 0.5863049626350403, 'eval_accuracy': 0.75, 'eval_runtime': 0.1435, 'eval_samples_per_second': 139.354, 'eval_steps_per_second': 6.968, 'epoch': 5.0}\n"
     ]
    },
    {
     "data": {
      "application/vnd.jupyter.widget-view+json": {
       "model_id": "2b11211cc8c3475c84d24944eb152bdb",
       "version_major": 2,
       "version_minor": 0
      },
      "text/plain": [
       "  0%|          | 0/1 [00:00<?, ?it/s]"
      ]
     },
     "metadata": {},
     "output_type": "display_data"
    },
    {
     "name": "stdout",
     "output_type": "stream",
     "text": [
      "{'eval_loss': 0.5641711950302124, 'eval_accuracy': 0.75, 'eval_runtime': 0.1435, 'eval_samples_per_second': 139.352, 'eval_steps_per_second': 6.968, 'epoch': 6.0}\n"
     ]
    },
    {
     "data": {
      "application/vnd.jupyter.widget-view+json": {
       "model_id": "78caa009da7247a7b6ac98cb42e8edfb",
       "version_major": 2,
       "version_minor": 0
      },
      "text/plain": [
       "  0%|          | 0/1 [00:00<?, ?it/s]"
      ]
     },
     "metadata": {},
     "output_type": "display_data"
    },
    {
     "name": "stdout",
     "output_type": "stream",
     "text": [
      "{'eval_loss': 0.5514840483665466, 'eval_accuracy': 0.75, 'eval_runtime': 0.1435, 'eval_samples_per_second': 139.356, 'eval_steps_per_second': 6.968, 'epoch': 7.0}\n"
     ]
    },
    {
     "data": {
      "application/vnd.jupyter.widget-view+json": {
       "model_id": "e13b77c3fb5d4474a3c0f707dfdd1778",
       "version_major": 2,
       "version_minor": 0
      },
      "text/plain": [
       "  0%|          | 0/1 [00:00<?, ?it/s]"
      ]
     },
     "metadata": {},
     "output_type": "display_data"
    },
    {
     "name": "stdout",
     "output_type": "stream",
     "text": [
      "{'eval_loss': 0.5450667142868042, 'eval_accuracy': 0.75, 'eval_runtime': 0.1415, 'eval_samples_per_second': 141.324, 'eval_steps_per_second': 7.066, 'epoch': 8.0}\n"
     ]
    },
    {
     "data": {
      "application/vnd.jupyter.widget-view+json": {
       "model_id": "2b21eadf2b9f42a3976f123dc1888108",
       "version_major": 2,
       "version_minor": 0
      },
      "text/plain": [
       "  0%|          | 0/1 [00:00<?, ?it/s]"
      ]
     },
     "metadata": {},
     "output_type": "display_data"
    },
    {
     "name": "stdout",
     "output_type": "stream",
     "text": [
      "{'eval_loss': 0.5414422750473022, 'eval_accuracy': 0.75, 'eval_runtime': 0.144, 'eval_samples_per_second': 138.862, 'eval_steps_per_second': 6.943, 'epoch': 9.0}\n",
      "{'loss': 0.4313, 'grad_norm': 4.6971211433410645, 'learning_rate': 0.0, 'epoch': 10.0}\n"
     ]
    },
    {
     "data": {
      "application/vnd.jupyter.widget-view+json": {
       "model_id": "9109358eb43b428ab72caa4c37190d39",
       "version_major": 2,
       "version_minor": 0
      },
      "text/plain": [
       "  0%|          | 0/1 [00:00<?, ?it/s]"
      ]
     },
     "metadata": {},
     "output_type": "display_data"
    },
    {
     "name": "stdout",
     "output_type": "stream",
     "text": [
      "{'eval_loss': 0.5398691892623901, 'eval_accuracy': 0.75, 'eval_runtime': 0.1391, 'eval_samples_per_second': 143.817, 'eval_steps_per_second': 7.191, 'epoch': 10.0}\n",
      "{'train_runtime': 12.8119, 'train_samples_per_second': 15.611, 'train_steps_per_second': 1.561, 'train_loss': 0.7096907615661621, 'epoch': 10.0}\n"
     ]
    },
    {
     "data": {
      "text/plain": [
       "TrainOutput(global_step=20, training_loss=0.7096907615661621, metrics={'train_runtime': 12.8119, 'train_samples_per_second': 15.611, 'train_steps_per_second': 1.561, 'total_flos': 26493479731200.0, 'train_loss': 0.7096907615661621, 'epoch': 10.0})"
      ]
     },
     "execution_count": 17,
     "metadata": {},
     "output_type": "execute_result"
    }
   ],
   "source": [
    "waste_train_dataset = Dataset.from_dict(waste_train_data.to_dict(orient='list'))\n",
    "waste_val_dataset = Dataset.from_dict(waste_val_data.to_dict(orient='list'))\n",
    "\n",
    "\n",
    "# Apply tokenization\n",
    "waste_train_dataset = waste_train_dataset.map(tokenize_function, batched=True)\n",
    "waste_val_dataset = waste_val_dataset.map(tokenize_function, batched=True)\n",
    "\n",
    "\n",
    "# Set the format for PyTorch\n",
    "waste_train_dataset.set_format(type=\"torch\", columns=[\"input_ids\", \"attention_mask\", \"label\"])\n",
    "waste_val_dataset.set_format(type=\"torch\", columns=[\"input_ids\", \"attention_mask\", \"label\"])\n",
    "\n",
    "# Initialize the model\n",
    "# model = DistilBertForSequenceClassification.from_pretrained('distilbert-base-uncased', num_labels=len(unique_labels))\n",
    "# model = model.to(device)\n",
    "waste_model = model\n",
    "for layer in waste_model.distilbert.transformer.layer[:3]:\n",
    "    for param in layer.parameters():\n",
    "        param.requires_grad = False\n",
    "# Training arguments\n",
    "waste_training_args = TrainingArguments(\n",
    "    output_dir=\"./temp\",\n",
    "    evaluation_strategy=\"epoch\",\n",
    "    save_strategy=\"epoch\",\n",
    "    learning_rate=2e-5,\n",
    "    per_device_train_batch_size=16,\n",
    "    per_device_eval_batch_size=32,\n",
    "    num_train_epochs=10,\n",
    "    weight_decay=0.01,\n",
    "    logging_dir=None,\n",
    "    logging_steps=10,\n",
    "    load_best_model_at_end=True,\n",
    "    metric_for_best_model=\"accuracy\",  # Matches the key in compute_metrics\n",
    "    save_total_limit=2\n",
    ")\n",
    "\n",
    "# Define Trainer\n",
    "waste_trainer = Trainer(\n",
    "    model=waste_model,\n",
    "    args=waste_training_args,\n",
    "    train_dataset=waste_train_dataset,\n",
    "    eval_dataset=waste_val_dataset,\n",
    "    tokenizer=tokenizer,\n",
    "    compute_metrics=compute_metrics\n",
    ")\n",
    "# Train the model\n",
    "waste_trainer.train()"
   ]
  },
  {
   "cell_type": "code",
   "execution_count": 18,
   "metadata": {},
   "outputs": [
    {
     "data": {
      "application/vnd.jupyter.widget-view+json": {
       "model_id": "67a0c6f9cea443e5b5788f711e667d1e",
       "version_major": 2,
       "version_minor": 0
      },
      "text/plain": [
       "  0%|          | 0/1 [00:00<?, ?it/s]"
      ]
     },
     "metadata": {},
     "output_type": "display_data"
    },
    {
     "data": {
      "image/png": "[encoded data removed]",
      "text/plain": [
       "<Figure size 640x480 with 2 Axes>"
      ]
     },
     "metadata": {},
     "output_type": "display_data"
    }
   ],
   "source": [
    "# Predict on the validation dataset\n",
    "predictions = waste_trainer.predict(waste_val_dataset)\n",
    "\n",
    "# Extract logits and true labels\n",
    "logits = predictions.predictions\n",
    "true_labels = predictions.label_ids\n",
    "predicted_labels = np.argmax(logits, axis=1)\n",
    "\n",
    "# Compute confusion matrix\n",
    "cm = confusion_matrix(true_labels, predicted_labels)\n",
    "\n",
    "# Display the confusion matrix\n",
    "disp = ConfusionMatrixDisplay(confusion_matrix=cm, display_labels=waste_model.config.id2label)\n",
    "disp.plot(cmap=plt.cm.Blues)\n",
    "plt.title(\"Confusion Matrix on Validation Dataset\")\n",
    "plt.show()"
   ]
  },
  {
   "cell_type": "code",
   "execution_count": 19,
   "metadata": {},
   "outputs": [
    {
     "name": "stdout",
     "output_type": "stream",
     "text": [
      "Accuracy: 0.8000\n",
      "Precision: 0.8125\n",
      "Recall: 0.8000\n",
      "F1 Score: 0.7980\n"
     ]
    }
   ],
   "source": [
    "# Calculate metrics\n",
    "accuracy = accuracy_score(true_labels, predicted_labels)\n",
    "precision, recall, f1, _ = precision_recall_fscore_support(true_labels, predicted_labels, average='weighted')\n",
    "print(f\"Accuracy: {accuracy:.4f}\")\n",
    "print(f\"Precision: {precision:.4f}\")\n",
    "print(f\"Recall: {recall:.4f}\")\n",
    "print(f\"F1 Score: {f1:.4f}\")"
   ]
  },
  {
   "cell_type": "markdown",
   "metadata": {},
   "source": [
    "### infer\n"
   ]
  },
  {
   "cell_type": "markdown",
   "metadata": {},
   "source": [
    "## Below is to infer the pdfs in a folder"
   ]
  },
  {
   "cell_type": "code",
   "execution_count": 20,
   "metadata": {},
   "outputs": [
    {
     "ename": "FileNotFoundError",
     "evalue": "[WinError 3] The system cannot find the path specified: '../Medical/waste_data/Yes'",
     "output_type": "error",
     "traceback": [
      "\u001b[1;31m---------------------------------------------------------------------------\u001b[0m",
      "\u001b[1;31mFileNotFoundError\u001b[0m                         Traceback (most recent call last)",
      "Cell \u001b[1;32mIn[20], line 69\u001b[0m\n\u001b[0;32m     66\u001b[0m output_csv_path \u001b[38;5;241m=\u001b[39m \u001b[38;5;124m\"\u001b[39m\u001b[38;5;124m../Medical/New_Data/predicted_labels.csv\u001b[39m\u001b[38;5;124m\"\u001b[39m\n\u001b[0;32m     68\u001b[0m \u001b[38;5;66;03m# Run the process using the trained model\u001b[39;00m\n\u001b[1;32m---> 69\u001b[0m \u001b[43mprocess_pdfs_after_training\u001b[49m\u001b[43m(\u001b[49m\n\u001b[0;32m     70\u001b[0m \u001b[43m    \u001b[49m\u001b[43mdirectory_path\u001b[49m\u001b[38;5;241;43m=\u001b[39;49m\u001b[43mpdfs_dir\u001b[49m\u001b[43m,\u001b[49m\n\u001b[0;32m     71\u001b[0m \u001b[43m    \u001b[49m\u001b[43moutput_csv\u001b[49m\u001b[38;5;241;43m=\u001b[39;49m\u001b[43moutput_csv_path\u001b[49m\u001b[43m,\u001b[49m\n\u001b[0;32m     72\u001b[0m \u001b[43m    \u001b[49m\u001b[43mmodel\u001b[49m\u001b[38;5;241;43m=\u001b[39;49m\u001b[43mwaste_model\u001b[49m\u001b[43m,\u001b[49m\u001b[43m       \u001b[49m\u001b[38;5;66;43;03m# The model you trained\u001b[39;49;00m\n\u001b[0;32m     73\u001b[0m \u001b[43m    \u001b[49m\u001b[43mtokenizer\u001b[49m\u001b[38;5;241;43m=\u001b[39;49m\u001b[43mtokenizer\u001b[49m\u001b[43m,\u001b[49m\u001b[43m     \u001b[49m\u001b[38;5;66;43;03m# Tokenizer used during training\u001b[39;49;00m\n\u001b[0;32m     74\u001b[0m \u001b[43m    \u001b[49m\u001b[43mdevice\u001b[49m\u001b[38;5;241;43m=\u001b[39;49m\u001b[43mdevice\u001b[49m\u001b[43m            \u001b[49m\u001b[38;5;66;43;03m# Device (GPU or CPU)\u001b[39;49;00m\n\u001b[0;32m     75\u001b[0m \u001b[43m)\u001b[49m\n",
      "Cell \u001b[1;32mIn[20], line 48\u001b[0m, in \u001b[0;36mprocess_pdfs_after_training\u001b[1;34m(directory_path, output_csv, model, tokenizer, device)\u001b[0m\n\u001b[0;32m     45\u001b[0m results \u001b[38;5;241m=\u001b[39m []\n\u001b[0;32m     47\u001b[0m \u001b[38;5;66;03m# Iterate through all PDF files in the directory\u001b[39;00m\n\u001b[1;32m---> 48\u001b[0m \u001b[38;5;28;01mfor\u001b[39;00m filename \u001b[38;5;129;01min\u001b[39;00m \u001b[43mos\u001b[49m\u001b[38;5;241;43m.\u001b[39;49m\u001b[43mlistdir\u001b[49m\u001b[43m(\u001b[49m\u001b[43mdirectory_path\u001b[49m\u001b[43m)\u001b[49m:\n\u001b[0;32m     49\u001b[0m     \u001b[38;5;28;01mif\u001b[39;00m filename\u001b[38;5;241m.\u001b[39mendswith(\u001b[38;5;124m\"\u001b[39m\u001b[38;5;124m.pdf\u001b[39m\u001b[38;5;124m\"\u001b[39m):\n\u001b[0;32m     50\u001b[0m         pdf_path \u001b[38;5;241m=\u001b[39m os\u001b[38;5;241m.\u001b[39mpath\u001b[38;5;241m.\u001b[39mjoin(directory_path, filename)\n",
      "\u001b[1;31mFileNotFoundError\u001b[0m: [WinError 3] The system cannot find the path specified: '../Medical/waste_data/Yes'"
     ]
    }
   ],
   "source": [
    "import os\n",
    "import torch\n",
    "import pandas as pd\n",
    "import fitz  # PyMuPDF\n",
    "def extract_text_from_pdf(pdf_path):\n",
    "    try:\n",
    "        doc = fitz.open(pdf_path)\n",
    "        text = \"\"\n",
    "        for page_num in range(doc.page_count):\n",
    "            page = doc.load_page(page_num)\n",
    "            text += page.get_text()\n",
    "        return text\n",
    "    except Exception as e:\n",
    "        print(f\"Error extracting text from {pdf_path}: {e}\")\n",
    "        return \"\"\n",
    "\n",
    "def predict_label_for_pdf(pdf_path, model, tokenizer, device):\n",
    "    # Extract text from the PDF\n",
    "    text = extract_text_from_pdf(pdf_path)\n",
    "    if not text.strip():\n",
    "        print(f\"No text extracted from {pdf_path}\")\n",
    "        return None\n",
    "\n",
    "    # Tokenize the text\n",
    "    inputs = tokenizer(\n",
    "        text, \n",
    "        padding=\"max_length\", \n",
    "        truncation=True, \n",
    "        max_length=512, \n",
    "        return_tensors=\"pt\"\n",
    "    )\n",
    "    \n",
    "    # Move tensors to the device (GPU or CPU)\n",
    "    inputs = {key: value.to(device) for key, value in inputs.items()}\n",
    "    \n",
    "    # Predict label\n",
    "    with torch.no_grad():\n",
    "        outputs = model(**inputs)\n",
    "        logits = outputs.logits\n",
    "        predicted_label = torch.argmax(logits, dim=1).item()\n",
    "\n",
    "    return predicted_label\n",
    "\n",
    "def process_pdfs_after_training(directory_path, output_csv, model, tokenizer, device):\n",
    "    results = []\n",
    "\n",
    "    # Iterate through all PDF files in the directory\n",
    "    for filename in os.listdir(directory_path):\n",
    "        if filename.endswith(\".pdf\"):\n",
    "            pdf_path = os.path.join(directory_path, filename)\n",
    "            print(f\"Processing {filename}...\")\n",
    "\n",
    "            # Predict label for the PDF\n",
    "            predicted_label = predict_label_for_pdf(pdf_path, model, tokenizer, device)\n",
    "            \n",
    "            if predicted_label is not None:\n",
    "                results.append({\"filename\": filename, \"predicted_label\": predicted_label})\n",
    "\n",
    "    # Save the results to a CSV\n",
    "    results_df = pd.DataFrame(results)\n",
    "    results_df.to_csv(output_csv, index=False)\n",
    "    print(f\"Predictions saved to {output_csv}\")\n",
    "\n",
    "# Directory containing the PDFs\n",
    "pdfs_dir = \"../Medical/waste_data/Yes\"\n",
    "output_csv_path = \"../Medical/New_Data/predicted_labels.csv\"\n",
    "\n",
    "# Run the process using the trained model\n",
    "process_pdfs_after_training(\n",
    "    directory_path=pdfs_dir,\n",
    "    output_csv=output_csv_path,\n",
    "    model=waste_model,       # The model you trained\n",
    "    tokenizer=tokenizer,     # Tokenizer used during training\n",
    "    device=device            # Device (GPU or CPU)\n",
    ")"
   ]
  }
 ],
 "metadata": {
  "kernelspec": {
   "display_name": "nlp",
   "language": "python",
   "name": "python3"
  },
  "language_info": {
   "codemirror_mode": {
    "name": "ipython",
    "version": 3
   },
   "file_extension": ".py",
   "mimetype": "text/x-python",
   "name": "python",
   "nbconvert_exporter": "python",
   "pygments_lexer": "ipython3",
   "version": "3.12.4"
  }
 },
 "nbformat": 4,
 "nbformat_minor": 2
}
