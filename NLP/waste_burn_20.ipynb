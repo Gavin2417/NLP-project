{
 "cells": [
  {
   "cell_type": "code",
   "execution_count": 20,
   "metadata": {},
   "outputs": [],
   "source": [
    "import pandas as pd\n",
    "import numpy as np\n",
    "import torch\n",
    "import torch.nn as nn\n",
    "from datasets import Dataset\n",
    "import evaluate\n",
    "from sklearn.metrics import accuracy_score, precision_recall_fscore_support, confusion_matrix, ConfusionMatrixDisplay\n",
    "from transformers import DistilBertTokenizer, DistilBertForSequenceClassification, Trainer, TrainingArguments\n",
    "from sklearn.model_selection import train_test_split, StratifiedShuffleSplit\n",
    "import matplotlib.pyplot as plt\n",
    "from tqdm import tqdm\n",
    "import seaborn as sns"
   ]
  },
  {
   "cell_type": "markdown",
   "metadata": {},
   "source": [
    "### Load data"
   ]
  },
  {
   "cell_type": "code",
   "execution_count": 21,
   "metadata": {},
   "outputs": [],
   "source": [
    "device = torch.device(\"cuda\" if torch.cuda.is_available() else \"cpu\")"
   ]
  },
  {
   "cell_type": "code",
   "execution_count": 22,
   "metadata": {},
   "outputs": [
    {
     "name": "stderr",
     "output_type": "stream",
     "text": [
      "c:\\Users\\gavin\\.conda\\envs\\nlp\\Lib\\site-packages\\transformers\\tokenization_utils_base.py:1601: FutureWarning: `clean_up_tokenization_spaces` was not set. It will be set to `True` by default. This behavior will be depracted in transformers v4.45, and will be then set to `False` by default. For more details check this issue: https://github.com/huggingface/transformers/issues/31884\n",
      "  warnings.warn(\n"
     ]
    }
   ],
   "source": [
    "accuracy_metric = evaluate.load(\"accuracy\")\n",
    "\n",
    "def compute_metrics(eval_pred):\n",
    "    logits, labels = eval_pred\n",
    "    predictions = np.argmax(logits, axis=1)\n",
    "    accuracy = accuracy_metric.compute(predictions=predictions, references=labels)\n",
    "    return {\"accuracy\": accuracy[\"accuracy\"]}\n",
    "\n",
    "tokenizer = DistilBertTokenizer.from_pretrained('distilbert-base-uncased')\n",
    "\n",
    "def tokenize_function(examples):\n",
    "    return tokenizer(examples['text'], padding=\"max_length\", truncation=True, max_length=512)"
   ]
  },
  {
   "cell_type": "markdown",
   "metadata": {},
   "source": [
    "### Second fine-tuning"
   ]
  },
  {
   "cell_type": "code",
   "execution_count": 23,
   "metadata": {},
   "outputs": [
    {
     "name": "stderr",
     "output_type": "stream",
     "text": [
      "Some weights of DistilBertForSequenceClassification were not initialized from the model checkpoint at distilbert-base-uncased and are newly initialized: ['classifier.bias', 'classifier.weight', 'pre_classifier.bias', 'pre_classifier.weight']\n",
      "You should probably TRAIN this model on a down-stream task to be able to use it for predictions and inference.\n"
     ]
    }
   ],
   "source": [
    "# load the model\n",
    "model = DistilBertForSequenceClassification.from_pretrained('distilbert-base-uncased', num_labels=2)\n",
    "model.load_state_dict(torch.load(\"medical_modle.pth\", weights_only=True))\n",
    "model = model.to(device)"
   ]
  },
  {
   "cell_type": "code",
   "execution_count": 24,
   "metadata": {},
   "outputs": [
    {
     "name": "stdout",
     "output_type": "stream",
     "text": [
      "Total number of texts:  40\n",
      "Total number of labels:  40\n",
      "The number of papers per label are:  label\n",
      "1    20\n",
      "0    20\n",
      "Name: count, dtype: int64\n"
     ]
    }
   ],
   "source": [
    "waste_data = pd.read_csv(\"csv_data/waste_40.csv\")\n",
    "\n",
    "# get the length of section\n",
    "print(\"Total number of texts: \", len(waste_data['text']))\n",
    "print(\"Total number of labels: \", len(waste_data['label']))\n",
    "\n",
    "#get number of papers per label\n",
    "print(\"The number of papers per label are: \", waste_data['label'].value_counts(normalize=False))\n"
   ]
  },
  {
   "cell_type": "code",
   "execution_count": 25,
   "metadata": {},
   "outputs": [
    {
     "name": "stdout",
     "output_type": "stream",
     "text": [
      "Train data:  label\n",
      "1    10\n",
      "0    10\n",
      "Name: count, dtype: int64\n",
      "\n"
     ]
    }
   ],
   "source": [
    "# # First split: 80% (train+val) and 20% (test)\n",
    "# split1 = StratifiedShuffleSplit(n_splits=1, test_size=0.75)\n",
    "# for train_idx, val_idx in split1.split(waste_data, waste_data['label']):\n",
    "#     waste_train_data = waste_data.iloc[train_idx]\n",
    "#     waste_val_data = waste_data.iloc[val_idx]\n",
    "\n",
    "label_1_data = waste_data[waste_data['label'] == 1]\n",
    "label_0_data = waste_data[waste_data['label'] == 0]\n",
    "\n",
    "# Assign 7 papers with label 1 and 1 paper with label 0 to the train set\n",
    "waste_train_data = pd.concat([label_1_data.iloc[:10], label_0_data.iloc[:10]])\n",
    "\n",
    "# Verify the splits on the labels\n",
    "print(\"Train data: \", waste_train_data['label'].value_counts(normalize=False))\n",
    "print()\n",
    "# print(\"Validation data: \", waste_val_data['label'].value_counts(normalize=False))\n",
    "# print()\n",
    "\n"
   ]
  },
  {
   "cell_type": "code",
   "execution_count": 26,
   "metadata": {},
   "outputs": [
    {
     "data": {
      "application/vnd.jupyter.widget-view+json": {
       "model_id": "2ec0dda8044348949a12f0506e215fbf",
       "version_major": 2,
       "version_minor": 0
      },
      "text/plain": [
       "Map:   0%|          | 0/20 [00:00<?, ? examples/s]"
      ]
     },
     "metadata": {},
     "output_type": "display_data"
    },
    {
     "name": "stderr",
     "output_type": "stream",
     "text": [
      "c:\\Users\\gavin\\.conda\\envs\\nlp\\Lib\\site-packages\\transformers\\training_args.py:1525: FutureWarning: `evaluation_strategy` is deprecated and will be removed in version 4.46 of 🤗 Transformers. Use `eval_strategy` instead\n",
      "  warnings.warn(\n"
     ]
    },
    {
     "data": {
      "application/vnd.jupyter.widget-view+json": {
       "model_id": "20ea2016fe3b4725b719c7543091112a",
       "version_major": 2,
       "version_minor": 0
      },
      "text/plain": [
       "  0%|          | 0/20 [00:00<?, ?it/s]"
      ]
     },
     "metadata": {},
     "output_type": "display_data"
    },
    {
     "name": "stdout",
     "output_type": "stream",
     "text": [
      "{'loss': 0.5514, 'grad_norm': 4.283358097076416, 'learning_rate': 2.5e-05, 'epoch': 5.0}\n",
      "{'loss': 0.0673, 'grad_norm': 0.4281129539012909, 'learning_rate': 0.0, 'epoch': 10.0}\n",
      "{'train_runtime': 30.2123, 'train_samples_per_second': 6.62, 'train_steps_per_second': 0.662, 'train_loss': 0.3093502432107925, 'epoch': 10.0}\n"
     ]
    },
    {
     "data": {
      "text/plain": [
       "TrainOutput(global_step=20, training_loss=0.3093502432107925, metrics={'train_runtime': 30.2123, 'train_samples_per_second': 6.62, 'train_steps_per_second': 0.662, 'total_flos': 26493479731200.0, 'train_loss': 0.3093502432107925, 'epoch': 10.0})"
      ]
     },
     "execution_count": 26,
     "metadata": {},
     "output_type": "execute_result"
    }
   ],
   "source": [
    "waste_train_dataset = Dataset.from_dict(waste_train_data.to_dict(orient='list'))\n",
    "# waste_val_dataset = Dataset.from_dict(waste_val_data.to_dict(orient='list'))\n",
    "\n",
    "\n",
    "# Apply tokenization\n",
    "waste_train_dataset = waste_train_dataset.map(tokenize_function, batched=True)\n",
    "# waste_val_dataset = waste_val_dataset.map(tokenize_function, batched=True)\n",
    "\n",
    "\n",
    "# Set the format for PyTorch\n",
    "waste_train_dataset.set_format(type=\"torch\", columns=[\"input_ids\", \"attention_mask\", \"label\"])\n",
    "# waste_val_dataset.set_format(type=\"torch\", columns=[\"input_ids\", \"attention_mask\", \"label\"])\n",
    "\n",
    "# Initialize the model\n",
    "# model = DistilBertForSequenceClassification.from_pretrained('distilbert-base-uncased', num_labels=len(unique_labels))\n",
    "# model = model.to(device)\n",
    "waste_model = model\n",
    "# Training arguments\n",
    "waste_training_args = TrainingArguments(\n",
    "    output_dir=\"./temp\",\n",
    "    evaluation_strategy=\"no\",\n",
    "    save_strategy=\"epoch\",\n",
    "    learning_rate=5e-5,\n",
    "    per_device_train_batch_size=16,\n",
    "    per_device_eval_batch_size=32,\n",
    "    num_train_epochs=10,\n",
    "    weight_decay=0.01,\n",
    "    logging_dir=None,\n",
    "    logging_steps=10,\n",
    "    load_best_model_at_end=False,\n",
    "    metric_for_best_model=\"accuracy\",  # Matches the key in compute_metrics\n",
    "    save_total_limit=2\n",
    ")\n",
    "\n",
    "# Define Trainer\n",
    "waste_trainer = Trainer(\n",
    "    model=waste_model,\n",
    "    args=waste_training_args,\n",
    "    train_dataset=waste_train_dataset,\n",
    "    # eval_dataset=waste_val_dataset,\n",
    "    tokenizer=tokenizer,\n",
    "    compute_metrics=compute_metrics\n",
    ")\n",
    "# Train the model\n",
    "waste_trainer.train()"
   ]
  },
  {
   "cell_type": "code",
   "execution_count": 27,
   "metadata": {},
   "outputs": [
    {
     "data": {
      "application/vnd.jupyter.widget-view+json": {
       "model_id": "43889bdd6bfb47869e189c92018c7359",
       "version_major": 2,
       "version_minor": 0
      },
      "text/plain": [
       "Map:   0%|          | 0/12 [00:00<?, ? examples/s]"
      ]
     },
     "metadata": {},
     "output_type": "display_data"
    },
    {
     "data": {
      "application/vnd.jupyter.widget-view+json": {
       "model_id": "4d176c4b5b274c13a761582b3d9da525",
       "version_major": 2,
       "version_minor": 0
      },
      "text/plain": [
       "  0%|          | 0/1 [00:00<?, ?it/s]"
      ]
     },
     "metadata": {},
     "output_type": "display_data"
    },
    {
     "data": {
      "image/png": "[encoded data removed]",
      "text/plain": [
       "<Figure size 640x480 with 2 Axes>"
      ]
     },
     "metadata": {},
     "output_type": "display_data"
    },
    {
     "name": "stdout",
     "output_type": "stream",
     "text": [
      "Accuracy: 0.7500\n",
      "Precision: 0.6818\n",
      "Recall: 0.7500\n",
      "F1 Score: 0.7143\n"
     ]
    }
   ],
   "source": [
    "new_waste_data = pd.read_csv(\"csv_data/waste_12.csv\")\n",
    "waste_test_dataset = Dataset.from_dict(new_waste_data.to_dict(orient='list'))\n",
    "\n",
    "\n",
    "# Apply tokenization\n",
    "waste_test_dataset = waste_test_dataset.map(tokenize_function, batched=True)\n",
    "\n",
    "\n",
    "# Set the format for PyTorch\n",
    "waste_test_dataset.set_format(type=\"torch\", columns=[\"input_ids\", \"attention_mask\", \"label\"])\n",
    "predictions = waste_trainer.predict(waste_test_dataset)\n",
    "\n",
    "# Extract logits and true labels\n",
    "logits = predictions.predictions\n",
    "true_labels = predictions.label_ids\n",
    "predicted_labels = np.argmax(logits, axis=1)\n",
    "\n",
    "# Compute confusion matrix\n",
    "cm = confusion_matrix(true_labels, predicted_labels)\n",
    "\n",
    "# Display the confusion matrix\n",
    "disp = ConfusionMatrixDisplay(confusion_matrix=cm, display_labels=waste_model.config.id2label)\n",
    "disp.plot(cmap=plt.cm.Blues)\n",
    "plt.title(\"Confusion Matrix on Validation Dataset\")\n",
    "plt.show()\n",
    "# print the accuracy\n",
    "accuracy = accuracy_score(true_labels, predicted_labels)\n",
    "precision, recall, f1, _ = precision_recall_fscore_support(true_labels, predicted_labels, average='weighted')\n",
    "print(f\"Accuracy: {accuracy:.4f}\")\n",
    "print(f\"Precision: {precision:.4f}\")\n",
    "print(f\"Recall: {recall:.4f}\")\n",
    "print(f\"F1 Score: {f1:.4f}\")"
   ]
  },
  {
   "cell_type": "markdown",
   "metadata": {},
   "source": [
    "## Below is to infer the pdfs in a folder"
   ]
  },
  {
   "cell_type": "code",
   "execution_count": 28,
   "metadata": {},
   "outputs": [
    {
     "name": "stdout",
     "output_type": "stream",
     "text": [
      "Processing abah 2022.pdf...\n",
      "Processing abdurrahman 2020.pdf...\n",
      "Processing adebiyi 2020.pdf...\n",
      "Processing bajyacharya 2021.pdf...\n",
      "Processing Das 2022.pdf...\n",
      "Processing Lin 2013.pdf...\n",
      "Processing tabian 2021.pdf...\n",
      "Processing timonen 2021.pdf...\n",
      "Processing uttajug 2021.pdf...\n",
      "Processing uttajug 2022.pdf...\n",
      "Processing vreeland 2016.pdf...\n",
      "Processing wu 2006.pdf...\n",
      "Processing zak 2021.pdf...\n",
      "Processing zakey 2008.pdf...\n",
      "Processing zalakeviciute 2020.pdf...\n",
      "Processing zalakeviciute 2021.pdf...\n",
      "Processing zalasiewicz 2019.pdf...\n",
      "Processing zalel 2015.pdf...\n",
      "Processing zalzal 2024.pdf...\n",
      "Processing zhang 2023.pdf...\n",
      "Predictions saved to csv_data/test_predictions_20.csv\n"
     ]
    }
   ],
   "source": [
    "import os\n",
    "import torch\n",
    "import pandas as pd\n",
    "import fitz  # PyMuPDF\n",
    "import re\n",
    "def extract_text_from_pdf(pdf_path):\n",
    "    try:\n",
    "        doc = fitz.open(pdf_path)\n",
    "        full_text = \"\"\n",
    "        for page_num in range(doc.page_count):\n",
    "            page = doc.load_page(page_num)\n",
    "            full_text += page.get_text().strip()\n",
    "        \n",
    "        # Define regex patterns for abstract and introduction to handle both normal and spaced-out letters.\n",
    "        abstract_pattern = r'(?:abstract|a\\s*?b\\s*?s\\s*?t\\s*?r\\s*?a\\s*?c\\s*?t)'\n",
    "        introduction_pattern = r'(?:introduction|i\\s*?n\\s*?t\\s*?r\\s*?o\\s*?d\\s*?u\\s*?c\\s*?t\\s*?i\\s*?o\\s*?n)'\n",
    "        \n",
    "        # Use regex to extract text from \"abstract\" to \"introduction\"\n",
    "        pattern = re.compile(abstract_pattern + r'(.*?)' + r'(?=' + introduction_pattern + r')', re.IGNORECASE | re.DOTALL)\n",
    "        match = pattern.search(full_text)\n",
    "        if match:\n",
    "            extracted_text = match.group(1).strip()\n",
    "            return extracted_text\n",
    "        else:\n",
    "            return full_text\n",
    "    except Exception as e:\n",
    "        print(f\"Error extracting text from {pdf_path}: {e}\")\n",
    "        return \"\"\n",
    "\n",
    "\n",
    "def predict_label_for_pdf(pdf_path, model, tokenizer, device):\n",
    "    # Extract text from the PDF\n",
    "    text = extract_text_from_pdf(pdf_path)\n",
    "    if not text.strip():\n",
    "        print(f\"No text extracted from {pdf_path}\")\n",
    "        return None\n",
    "\n",
    "    # Tokenize the text\n",
    "    inputs = tokenizer(\n",
    "        text, \n",
    "        padding=\"max_length\", \n",
    "        truncation=True, \n",
    "        max_length=512, \n",
    "        return_tensors=\"pt\"\n",
    "    )\n",
    "    \n",
    "    # Move tensors to the device (GPU or CPU)\n",
    "    inputs = {key: value.to(device) for key, value in inputs.items()}\n",
    "    \n",
    "    # Predict label\n",
    "    with torch.no_grad():\n",
    "        outputs = model(**inputs)\n",
    "        logits = outputs.logits\n",
    "        predicted_label = torch.argmax(logits, dim=1).item()\n",
    "\n",
    "    return predicted_label\n",
    "\n",
    "def process_pdfs_after_training(directory_path, output_csv, model, tokenizer, device):\n",
    "    results = []\n",
    "\n",
    "    # Iterate through all PDF files in the directory\n",
    "    for filename in os.listdir(directory_path):\n",
    "        if filename.endswith(\".pdf\"):\n",
    "            pdf_path = os.path.join(directory_path, filename)\n",
    "            print(f\"Processing {filename}...\")\n",
    "\n",
    "            # Predict label for the PDF\n",
    "            predicted_label = predict_label_for_pdf(pdf_path, model, tokenizer, device)\n",
    "            if predicted_label is None:\n",
    "                continue  # Skip files with no text extracted\n",
    "\n",
    "            # Convert numeric prediction to string label\n",
    "            if predicted_label == 1:\n",
    "                new_label = \"YES\"\n",
    "            else:\n",
    "                new_label = \"NO\"\n",
    "            \n",
    "            results.append({\"filename\": filename, \"predicted_label\": new_label})\n",
    "    # Save the results to a CSV\n",
    "    results_df = pd.DataFrame(results)\n",
    "    results_df.to_csv(output_csv, index=False)\n",
    "    print(f\"Predictions saved to {output_csv}\")\n",
    "\n",
    "# Directory containing the PDFs\n",
    "pdfs_dir = \"pdf_data/test\"\n",
    "output_csv_path = \"csv_data/test_predictions_20.csv\"\n",
    "\n",
    "# Run the process using the trained model\n",
    "process_pdfs_after_training(\n",
    "    directory_path=pdfs_dir,\n",
    "    output_csv=output_csv_path,\n",
    "    model=waste_model,       # The model you trained\n",
    "    tokenizer=tokenizer,     # Tokenizer used during training\n",
    "    device=device            # Device (GPU or CPU)\n",
    ")"
   ]
  }
 ],
 "metadata": {
  "kernelspec": {
   "display_name": "nlp",
   "language": "python",
   "name": "python3"
  },
  "language_info": {
   "codemirror_mode": {
    "name": "ipython",
    "version": 3
   },
   "file_extension": ".py",
   "mimetype": "text/x-python",
   "name": "python",
   "nbconvert_exporter": "python",
   "pygments_lexer": "ipython3",
   "version": "3.12.4"
  }
 },
 "nbformat": 4,
 "nbformat_minor": 2
}
